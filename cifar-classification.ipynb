{
 "cells": [
  {
   "cell_type": "markdown",
   "id": "bafecdd0",
   "metadata": {
    "papermill": {
     "duration": 0.007821,
     "end_time": "2023-03-15T23:53:52.033308",
     "exception": false,
     "start_time": "2023-03-15T23:53:52.025487",
     "status": "completed"
    },
    "tags": []
   },
   "source": [
    "# Cifar classification \n",
    "\n",
    "##### CNN classification\n",
    "\n",
    "* The CIFAR-10 dataset consists of 60000 32x32 colour images in 10 classes, with 6000 images per class. There are 50000 training images and 10000 test images.\n",
    "* This dataset was retirved from: [\"https://www.tensorflow.org/datasets/catalog/cifar10\"]"
   ]
  },
  {
   "cell_type": "markdown",
   "id": "aa925f4c",
   "metadata": {
    "papermill": {
     "duration": 0.006375,
     "end_time": "2023-03-15T23:53:52.046843",
     "exception": false,
     "start_time": "2023-03-15T23:53:52.040468",
     "status": "completed"
    },
    "tags": []
   },
   "source": [
    "### Import Packages"
   ]
  },
  {
   "cell_type": "code",
   "execution_count": 1,
   "id": "991d4eab",
   "metadata": {
    "_cell_guid": "b1076dfc-b9ad-4769-8c92-a6c4dae69d19",
    "_uuid": "8f2839f25d086af736a60e9eeb907d3b93b6e0e5",
    "execution": {
     "iopub.execute_input": "2023-03-15T23:53:52.062588Z",
     "iopub.status.busy": "2023-03-15T23:53:52.061415Z",
     "iopub.status.idle": "2023-03-15T23:53:52.072718Z",
     "shell.execute_reply": "2023-03-15T23:53:52.071780Z"
    },
    "papermill": {
     "duration": 0.021694,
     "end_time": "2023-03-15T23:53:52.075171",
     "exception": false,
     "start_time": "2023-03-15T23:53:52.053477",
     "status": "completed"
    },
    "tags": []
   },
   "outputs": [],
   "source": [
    "# Linear Algebra\n",
    "import numpy as np # \n",
    "# Data Processing\n",
    "import pandas as pd \n",
    "# Data Visualization\n",
    "import matplotlib.pyplot as plt"
   ]
  },
  {
   "cell_type": "markdown",
   "id": "b06c85af",
   "metadata": {
    "papermill": {
     "duration": 0.006441,
     "end_time": "2023-03-15T23:53:52.088255",
     "exception": false,
     "start_time": "2023-03-15T23:53:52.081814",
     "status": "completed"
    },
    "tags": []
   },
   "source": [
    "### Convolutional Packages"
   ]
  },
  {
   "cell_type": "code",
   "execution_count": 2,
   "id": "49e7d904",
   "metadata": {
    "execution": {
     "iopub.execute_input": "2023-03-15T23:53:52.103300Z",
     "iopub.status.busy": "2023-03-15T23:53:52.102969Z",
     "iopub.status.idle": "2023-03-15T23:53:58.852871Z",
     "shell.execute_reply": "2023-03-15T23:53:58.851747Z"
    },
    "papermill": {
     "duration": 6.760587,
     "end_time": "2023-03-15T23:53:58.855469",
     "exception": false,
     "start_time": "2023-03-15T23:53:52.094882",
     "status": "completed"
    },
    "tags": []
   },
   "outputs": [],
   "source": [
    "# Keras API\n",
    "from tensorflow import keras\n",
    "# Utils for categorical values\n",
    "from tensorflow.keras.utils import to_categorical\n",
    "# Regularizers\n",
    "from tensorflow.keras import regularizers\n",
    "# Sequentials\n",
    "from tensorflow.keras.models import Sequential\n",
    "# Model Layers\n",
    "from tensorflow.keras.layers import Conv2D,MaxPooling2D, Flatten, Dense, Dropout, Activation, BatchNormalization\n",
    "# Dataset\n",
    "from tensorflow.keras.datasets import cifar10\n",
    "# Image Generators\n",
    "from tensorflow.keras.preprocessing.image import ImageDataGenerator\n",
    "# \n",
    "from tensorflow.keras.callbacks import ModelCheckpoint"
   ]
  },
  {
   "cell_type": "markdown",
   "id": "72f9aac7",
   "metadata": {
    "papermill": {
     "duration": 0.006409,
     "end_time": "2023-03-15T23:53:58.868760",
     "exception": false,
     "start_time": "2023-03-15T23:53:58.862351",
     "status": "completed"
    },
    "tags": []
   },
   "source": [
    "### Loading Dataset"
   ]
  },
  {
   "cell_type": "code",
   "execution_count": 3,
   "id": "4ee67f78",
   "metadata": {
    "execution": {
     "iopub.execute_input": "2023-03-15T23:53:58.884017Z",
     "iopub.status.busy": "2023-03-15T23:53:58.883312Z",
     "iopub.status.idle": "2023-03-15T23:54:12.835054Z",
     "shell.execute_reply": "2023-03-15T23:54:12.834025Z"
    },
    "papermill": {
     "duration": 13.962337,
     "end_time": "2023-03-15T23:54:12.837709",
     "exception": false,
     "start_time": "2023-03-15T23:53:58.875372",
     "status": "completed"
    },
    "tags": []
   },
   "outputs": [
    {
     "name": "stdout",
     "output_type": "stream",
     "text": [
      "Downloading data from https://www.cs.toronto.edu/~kriz/cifar-10-python.tar.gz\n",
      "170498071/170498071 [==============================] - 11s 0us/step\n"
     ]
    }
   ],
   "source": [
    "(x_train, y_train), (x_test, y_test) = cifar10.load_data()"
   ]
  },
  {
   "cell_type": "code",
   "execution_count": 4,
   "id": "30de8265",
   "metadata": {
    "execution": {
     "iopub.execute_input": "2023-03-15T23:54:12.867064Z",
     "iopub.status.busy": "2023-03-15T23:54:12.866699Z",
     "iopub.status.idle": "2023-03-15T23:54:12.873890Z",
     "shell.execute_reply": "2023-03-15T23:54:12.872803Z"
    },
    "papermill": {
     "duration": 0.025488,
     "end_time": "2023-03-15T23:54:12.877161",
     "exception": false,
     "start_time": "2023-03-15T23:54:12.851673",
     "status": "completed"
    },
    "tags": []
   },
   "outputs": [
    {
     "data": {
      "text/plain": [
       "(50000, 32, 32, 3)"
      ]
     },
     "execution_count": 4,
     "metadata": {},
     "output_type": "execute_result"
    }
   ],
   "source": [
    "x_train.shape"
   ]
  },
  {
   "cell_type": "code",
   "execution_count": 5,
   "id": "f251d411",
   "metadata": {
    "execution": {
     "iopub.execute_input": "2023-03-15T23:54:12.906577Z",
     "iopub.status.busy": "2023-03-15T23:54:12.905498Z",
     "iopub.status.idle": "2023-03-15T23:54:13.119850Z",
     "shell.execute_reply": "2023-03-15T23:54:13.118874Z"
    },
    "papermill": {
     "duration": 0.231409,
     "end_time": "2023-03-15T23:54:13.121944",
     "exception": false,
     "start_time": "2023-03-15T23:54:12.890535",
     "status": "completed"
    },
    "tags": []
   },
   "outputs": [
    {
     "data": {
      "image/png": "[encoded data removed]",
      "text/plain": [
       "<Figure size 640x480 with 1 Axes>"
      ]
     },
     "metadata": {},
     "output_type": "display_data"
    }
   ],
   "source": [
    "plt.imshow(x_train[3])\n",
    "plt.show()"
   ]
  },
  {
   "cell_type": "markdown",
   "id": "7299a509",
   "metadata": {
    "papermill": {
     "duration": 0.013655,
     "end_time": "2023-03-15T23:54:13.149917",
     "exception": false,
     "start_time": "2023-03-15T23:54:13.136262",
     "status": "completed"
    },
    "tags": []
   },
   "source": [
    "### Data Cleaning"
   ]
  },
  {
   "cell_type": "code",
   "execution_count": 6,
   "id": "8ddac8ae",
   "metadata": {
    "execution": {
     "iopub.execute_input": "2023-03-15T23:54:13.179659Z",
     "iopub.status.busy": "2023-03-15T23:54:13.178635Z",
     "iopub.status.idle": "2023-03-15T23:54:13.362118Z",
     "shell.execute_reply": "2023-03-15T23:54:13.361019Z"
    },
    "papermill": {
     "duration": 0.201037,
     "end_time": "2023-03-15T23:54:13.364632",
     "exception": false,
     "start_time": "2023-03-15T23:54:13.163595",
     "status": "completed"
    },
    "tags": []
   },
   "outputs": [],
   "source": [
    "# Let's apply Dimensionality Reduction\n",
    "x_train = x_train.astype('float32')\n",
    "x_test = x_test.astype('float32')"
   ]
  },
  {
   "cell_type": "code",
   "execution_count": 7,
   "id": "8c29b921",
   "metadata": {
    "execution": {
     "iopub.execute_input": "2023-03-15T23:54:13.393648Z",
     "iopub.status.busy": "2023-03-15T23:54:13.393264Z",
     "iopub.status.idle": "2023-03-15T23:54:13.401355Z",
     "shell.execute_reply": "2023-03-15T23:54:13.400439Z"
    },
    "papermill": {
     "duration": 0.025341,
     "end_time": "2023-03-15T23:54:13.403765",
     "exception": false,
     "start_time": "2023-03-15T23:54:13.378424",
     "status": "completed"
    },
    "tags": []
   },
   "outputs": [],
   "source": [
    "# Now! Let's move on Label's Restructuring\n",
    "\n",
    "# Matrix Lengths with 10 possible unique values\n",
    "num_clases = len(np.unique(y_train))\n",
    "# Let's switch them into binary values\n",
    "y_train = to_categorical(y_train, num_clases)\n",
    "y_test = to_categorical(y_test, num_clases)"
   ]
  },
  {
   "cell_type": "markdown",
   "id": "38a1c147",
   "metadata": {
    "papermill": {
     "duration": 0.013344,
     "end_time": "2023-03-15T23:54:13.430731",
     "exception": false,
     "start_time": "2023-03-15T23:54:13.417387",
     "status": "completed"
    },
    "tags": []
   },
   "source": [
    "* Let's chekc the outcome:"
   ]
  },
  {
   "cell_type": "code",
   "execution_count": 8,
   "id": "60a2dd90",
   "metadata": {
    "execution": {
     "iopub.execute_input": "2023-03-15T23:54:13.459530Z",
     "iopub.status.busy": "2023-03-15T23:54:13.459180Z",
     "iopub.status.idle": "2023-03-15T23:54:13.466153Z",
     "shell.execute_reply": "2023-03-15T23:54:13.465176Z"
    },
    "papermill": {
     "duration": 0.023909,
     "end_time": "2023-03-15T23:54:13.468375",
     "exception": false,
     "start_time": "2023-03-15T23:54:13.444466",
     "status": "completed"
    },
    "tags": []
   },
   "outputs": [
    {
     "data": {
      "text/plain": [
       "array([0., 0., 0., 0., 0., 0., 1., 0., 0., 0.], dtype=float32)"
      ]
     },
     "execution_count": 8,
     "metadata": {},
     "output_type": "execute_result"
    }
   ],
   "source": [
    "y_train[0]"
   ]
  },
  {
   "cell_type": "markdown",
   "id": "052a37c8",
   "metadata": {
    "papermill": {
     "duration": 0.013419,
     "end_time": "2023-03-15T23:54:13.495528",
     "exception": false,
     "start_time": "2023-03-15T23:54:13.482109",
     "status": "completed"
    },
    "tags": []
   },
   "source": [
    "### Normalization Procedure"
   ]
  },
  {
   "cell_type": "code",
   "execution_count": 9,
   "id": "1d4a4755",
   "metadata": {
    "execution": {
     "iopub.execute_input": "2023-03-15T23:54:13.524643Z",
     "iopub.status.busy": "2023-03-15T23:54:13.524280Z",
     "iopub.status.idle": "2023-03-15T23:54:13.932010Z",
     "shell.execute_reply": "2023-03-15T23:54:13.930950Z"
    },
    "papermill": {
     "duration": 0.425236,
     "end_time": "2023-03-15T23:54:13.934606",
     "exception": false,
     "start_time": "2023-03-15T23:54:13.509370",
     "status": "completed"
    },
    "tags": []
   },
   "outputs": [],
   "source": [
    "mean = np.mean(x_train)\n",
    "std = np.std(x_train)"
   ]
  },
  {
   "cell_type": "code",
   "execution_count": 10,
   "id": "7cfecc8d",
   "metadata": {
    "execution": {
     "iopub.execute_input": "2023-03-15T23:54:13.965471Z",
     "iopub.status.busy": "2023-03-15T23:54:13.965121Z",
     "iopub.status.idle": "2023-03-15T23:54:14.248363Z",
     "shell.execute_reply": "2023-03-15T23:54:14.247248Z"
    },
    "papermill": {
     "duration": 0.3009,
     "end_time": "2023-03-15T23:54:14.251195",
     "exception": false,
     "start_time": "2023-03-15T23:54:13.950295",
     "status": "completed"
    },
    "tags": []
   },
   "outputs": [],
   "source": [
    "x_train = (x_train - mean) / (std+1e-7)\n",
    "x_test = (x_test - mean) / (std+1e-7)"
   ]
  },
  {
   "cell_type": "markdown",
   "id": "f46bec8f",
   "metadata": {
    "papermill": {
     "duration": 0.013496,
     "end_time": "2023-03-15T23:54:14.278745",
     "exception": false,
     "start_time": "2023-03-15T23:54:14.265249",
     "status": "completed"
    },
    "tags": []
   },
   "source": [
    "### Building Dataset "
   ]
  },
  {
   "cell_type": "code",
   "execution_count": 11,
   "id": "3087103b",
   "metadata": {
    "execution": {
     "iopub.execute_input": "2023-03-15T23:54:14.308493Z",
     "iopub.status.busy": "2023-03-15T23:54:14.307355Z",
     "iopub.status.idle": "2023-03-15T23:54:14.315187Z",
     "shell.execute_reply": "2023-03-15T23:54:14.313895Z"
    },
    "papermill": {
     "duration": 0.025559,
     "end_time": "2023-03-15T23:54:14.318017",
     "exception": false,
     "start_time": "2023-03-15T23:54:14.292458",
     "status": "completed"
    },
    "tags": []
   },
   "outputs": [
    {
     "name": "stdout",
     "output_type": "stream",
     "text": [
      "x_train shape (45000, 32, 32, 3)\n",
      "train; 45000\n",
      "val; 5000\n",
      "test; 10000\n"
     ]
    }
   ],
   "source": [
    "# Traning & Validating Datasets Segmentation for x\n",
    "(x_train, x_valid) = x_train[5000:], x_train[:5000]\n",
    "# Traning & Validating Datasets for\n",
    "(y_train, y_valid) = y_train[5000:], y_train[:5000]\n",
    "\n",
    "# Let check x_train shape\n",
    "print('x_train shape', x_train.shape)\n",
    "\n",
    "# Lets extend it amog the rest of attributes\n",
    "print('train;', x_train.shape[0])\n",
    "# x_valid\n",
    "print('val;', x_valid.shape[0])\n",
    "# x_test\n",
    "print('test;', x_test.shape[0])"
   ]
  },
  {
   "cell_type": "markdown",
   "id": "db1df211",
   "metadata": {
    "papermill": {
     "duration": 0.013489,
     "end_time": "2023-03-15T23:54:14.345591",
     "exception": false,
     "start_time": "2023-03-15T23:54:14.332102",
     "status": "completed"
    },
    "tags": []
   },
   "source": [
    "### Building The Model"
   ]
  },
  {
   "cell_type": "code",
   "execution_count": 12,
   "id": "fda9ee12",
   "metadata": {
    "execution": {
     "iopub.execute_input": "2023-03-15T23:54:14.374701Z",
     "iopub.status.busy": "2023-03-15T23:54:14.374355Z",
     "iopub.status.idle": "2023-03-15T23:54:14.379019Z",
     "shell.execute_reply": "2023-03-15T23:54:14.378022Z"
    },
    "papermill": {
     "duration": 0.021732,
     "end_time": "2023-03-15T23:54:14.381152",
     "exception": false,
     "start_time": "2023-03-15T23:54:14.359420",
     "status": "completed"
    },
    "tags": []
   },
   "outputs": [],
   "source": [
    "# let's set a filter base\n",
    "filter_base = 32\n",
    "# let's add a weight on regularizer\n",
    "w_regulatizer = 1e-4"
   ]
  },
  {
   "cell_type": "markdown",
   "id": "858e260c",
   "metadata": {
    "papermill": {
     "duration": 0.013519,
     "end_time": "2023-03-15T23:54:14.408214",
     "exception": false,
     "start_time": "2023-03-15T23:54:14.394695",
     "status": "completed"
    },
    "tags": []
   },
   "source": [
    "#### Setting the model"
   ]
  },
  {
   "cell_type": "code",
   "execution_count": 13,
   "id": "b28eb21b",
   "metadata": {
    "execution": {
     "iopub.execute_input": "2023-03-15T23:54:14.437360Z",
     "iopub.status.busy": "2023-03-15T23:54:14.437006Z",
     "iopub.status.idle": "2023-03-15T23:54:17.328817Z",
     "shell.execute_reply": "2023-03-15T23:54:17.328042Z"
    },
    "papermill": {
     "duration": 2.956196,
     "end_time": "2023-03-15T23:54:17.378079",
     "exception": false,
     "start_time": "2023-03-15T23:54:14.421883",
     "status": "completed"
    },
    "tags": []
   },
   "outputs": [
    {
     "name": "stdout",
     "output_type": "stream",
     "text": [
      "Model: \"sequential\"\n",
      "_________________________________________________________________\n",
      " Layer (type)                Output Shape              Param #   \n",
      "=================================================================\n",
      " conv2d (Conv2D)             (None, 32, 32, 32)        896       \n",
      "                                                                 \n",
      " activation (Activation)     (None, 32, 32, 32)        0         \n",
      "                                                                 \n",
      " batch_normalization (BatchN  (None, 32, 32, 32)       128       \n",
      " ormalization)                                                   \n",
      "                                                                 \n",
      " conv2d_1 (Conv2D)           (None, 32, 32, 32)        9248      \n",
      "                                                                 \n",
      " activation_1 (Activation)   (None, 32, 32, 32)        0         \n",
      "                                                                 \n",
      " batch_normalization_1 (Batc  (None, 32, 32, 32)       128       \n",
      " hNormalization)                                                 \n",
      "                                                                 \n",
      " dropout (Dropout)           (None, 32, 32, 32)        0         \n",
      "                                                                 \n",
      " conv2d_2 (Conv2D)           (None, 32, 32, 64)        18496     \n",
      "                                                                 \n",
      " activation_2 (Activation)   (None, 32, 32, 64)        0         \n",
      "                                                                 \n",
      " batch_normalization_2 (Batc  (None, 32, 32, 64)       256       \n",
      " hNormalization)                                                 \n",
      "                                                                 \n",
      " max_pooling2d (MaxPooling2D  (None, 16, 16, 64)       0         \n",
      " )                                                               \n",
      "                                                                 \n",
      " dropout_1 (Dropout)         (None, 16, 16, 64)        0         \n",
      "                                                                 \n",
      " conv2d_3 (Conv2D)           (None, 16, 16, 64)        36928     \n",
      "                                                                 \n",
      " activation_3 (Activation)   (None, 16, 16, 64)        0         \n",
      "                                                                 \n",
      " batch_normalization_3 (Batc  (None, 16, 16, 64)       256       \n",
      " hNormalization)                                                 \n",
      "                                                                 \n",
      " max_pooling2d_1 (MaxPooling  (None, 8, 8, 64)         0         \n",
      " 2D)                                                             \n",
      "                                                                 \n",
      " dropout_2 (Dropout)         (None, 8, 8, 64)          0         \n",
      "                                                                 \n",
      " conv2d_4 (Conv2D)           (None, 8, 8, 128)         73856     \n",
      "                                                                 \n",
      " activation_4 (Activation)   (None, 8, 8, 128)         0         \n",
      "                                                                 \n",
      " batch_normalization_4 (Batc  (None, 8, 8, 128)        512       \n",
      " hNormalization)                                                 \n",
      "                                                                 \n",
      " conv2d_5 (Conv2D)           (None, 8, 8, 128)         147584    \n",
      "                                                                 \n",
      " activation_5 (Activation)   (None, 8, 8, 128)         0         \n",
      "                                                                 \n",
      " batch_normalization_5 (Batc  (None, 8, 8, 128)        512       \n",
      " hNormalization)                                                 \n",
      "                                                                 \n",
      " max_pooling2d_2 (MaxPooling  (None, 4, 4, 128)        0         \n",
      " 2D)                                                             \n",
      "                                                                 \n",
      " dropout_3 (Dropout)         (None, 4, 4, 128)         0         \n",
      "                                                                 \n",
      " flatten (Flatten)           (None, 2048)              0         \n",
      "                                                                 \n",
      " dense (Dense)               (None, 10)                20490     \n",
      "                                                                 \n",
      "=================================================================\n",
      "Total params: 309,290\n",
      "Trainable params: 308,394\n",
      "Non-trainable params: 896\n",
      "_________________________________________________________________\n"
     ]
    }
   ],
   "source": [
    "# Invoke Model Type\n",
    "model = Sequential()\n",
    "\n",
    "# 1st Convolution\n",
    "model.add(Conv2D(filter_base, (3,3), padding='same', kernel_regularizer=regularizers.l2(w_regulatizer), input_shape=x_train.shape[1:]))\n",
    "# Activation layer\n",
    "model.add(Activation('relu'))\n",
    "model.add(BatchNormalization())\n",
    "\n",
    "\n",
    "# 2nd Convolution\n",
    "model.add(Conv2D(filter_base, (3,3), padding='same', kernel_regularizer=regularizers.l2(w_regulatizer)))\n",
    "# Activation layer\n",
    "model.add(Activation('relu'))\n",
    "# \n",
    "model.add(BatchNormalization())\n",
    "# Complexity Reduction\n",
    "# model.add(MaxPooling2D(pool_size=(2,2)))\n",
    "# Ovewrfitting 20%\n",
    "model.add(Dropout(0.2))\n",
    "\n",
    "# In this case let's perform a deeper network\n",
    "\n",
    "\n",
    "# 3rd Convolution\n",
    "model.add(Conv2D(2*filter_base, (3,3), padding='same', kernel_regularizer=regularizers.l2(w_regulatizer)))\n",
    "# Activation layer\n",
    "model.add(Activation('relu'))\n",
    "model.add(BatchNormalization())\n",
    "# Complexity Reduction\n",
    "model.add(MaxPooling2D(pool_size=(2,2)))\n",
    "# Ovewrfitting 20%\n",
    "model.add(Dropout(0.2))\n",
    "\n",
    "\n",
    "## 4th convlotuion\n",
    "model.add(Conv2D(2*filter_base, (3,3), padding='same', kernel_regularizer=regularizers.l2(w_regulatizer)))\n",
    "# Activation layer\n",
    "model.add(Activation('relu'))\n",
    "model.add(BatchNormalization())\n",
    "# Complexity Reduction\n",
    "model.add(MaxPooling2D(pool_size=(2,2)))\n",
    "# Ovewrfitting 30%\n",
    "model.add(Dropout(0.3))\n",
    "\n",
    "\n",
    "# 5th Convolution\n",
    "model.add(Conv2D(4*filter_base, (3,3), padding='same', kernel_regularizer=regularizers.l2(w_regulatizer)))\n",
    "# Activation Layer\n",
    "model.add(Activation('relu'))\n",
    "model.add(BatchNormalization())\n",
    "\n",
    "\n",
    "# 6th Convolution\n",
    "model.add(Conv2D(4*filter_base, (3,3), padding='same', kernel_regularizer=regularizers.l2(w_regulatizer)))\n",
    "# Activation Layer\n",
    "model.add(Activation('relu'))\n",
    "model.add(BatchNormalization())\n",
    "# Complexity Reduction\n",
    "model.add(MaxPooling2D(pool_size=(2,2)))\n",
    "# overfitting 40%\n",
    "model.add(Dropout(0.4))\n",
    "\n",
    "\n",
    "# Flatten Classifier\n",
    "\n",
    "# One Dimension Flatten Layer\n",
    "model.add(Flatten())\n",
    "# Dense Layer\n",
    "model.add(Dense(num_clases,activation='softmax'))\n",
    "\n",
    "# Summary\n",
    "model.summary()"
   ]
  },
  {
   "cell_type": "markdown",
   "id": "889eaa7e",
   "metadata": {
    "papermill": {
     "duration": 0.01703,
     "end_time": "2023-03-15T23:54:17.413005",
     "exception": false,
     "start_time": "2023-03-15T23:54:17.395975",
     "status": "completed"
    },
    "tags": []
   },
   "source": [
    "### Data Augmentation"
   ]
  },
  {
   "cell_type": "code",
   "execution_count": 14,
   "id": "df535d00",
   "metadata": {
    "execution": {
     "iopub.execute_input": "2023-03-15T23:54:17.450004Z",
     "iopub.status.busy": "2023-03-15T23:54:17.449614Z",
     "iopub.status.idle": "2023-03-15T23:54:17.454961Z",
     "shell.execute_reply": "2023-03-15T23:54:17.453817Z"
    },
    "papermill": {
     "duration": 0.026689,
     "end_time": "2023-03-15T23:54:17.457151",
     "exception": false,
     "start_time": "2023-03-15T23:54:17.430462",
     "status": "completed"
    },
    "tags": []
   },
   "outputs": [],
   "source": [
    "datagen = ImageDataGenerator(rotation_range=15,\n",
    "                  width_shift_range=0.1,\n",
    "                  height_shift_range=0.1,\n",
    "                  horizontal_flip=True,\n",
    "                  vertical_flip=True)"
   ]
  },
  {
   "cell_type": "markdown",
   "id": "e186a6c6",
   "metadata": {
    "papermill": {
     "duration": 0.017863,
     "end_time": "2023-03-15T23:54:17.492737",
     "exception": false,
     "start_time": "2023-03-15T23:54:17.474874",
     "status": "completed"
    },
    "tags": []
   },
   "source": [
    "### Model Compilation"
   ]
  },
  {
   "cell_type": "code",
   "execution_count": 15,
   "id": "339972e9",
   "metadata": {
    "execution": {
     "iopub.execute_input": "2023-03-15T23:54:17.530707Z",
     "iopub.status.busy": "2023-03-15T23:54:17.530346Z",
     "iopub.status.idle": "2023-03-15T23:54:17.534878Z",
     "shell.execute_reply": "2023-03-15T23:54:17.533863Z"
    },
    "papermill": {
     "duration": 0.026097,
     "end_time": "2023-03-15T23:54:17.537069",
     "exception": false,
     "start_time": "2023-03-15T23:54:17.510972",
     "status": "completed"
    },
    "tags": []
   },
   "outputs": [],
   "source": [
    "# Optimizer Library\n",
    "from tensorflow.keras import optimizers"
   ]
  },
  {
   "cell_type": "code",
   "execution_count": 16,
   "id": "6230f27a",
   "metadata": {
    "execution": {
     "iopub.execute_input": "2023-03-15T23:54:17.573174Z",
     "iopub.status.busy": "2023-03-15T23:54:17.572795Z",
     "iopub.status.idle": "2023-03-15T23:54:17.590819Z",
     "shell.execute_reply": "2023-03-15T23:54:17.589759Z"
    },
    "papermill": {
     "duration": 0.038633,
     "end_time": "2023-03-15T23:54:17.593040",
     "exception": false,
     "start_time": "2023-03-15T23:54:17.554407",
     "status": "completed"
    },
    "tags": []
   },
   "outputs": [],
   "source": [
    "# Compiling the model with \n",
    "model.compile(loss='categorical_crossentropy', optimizer=optimizers.Adam(),\n",
    "             metrics=['accuracy'])"
   ]
  },
  {
   "cell_type": "code",
   "execution_count": 17,
   "id": "f410076f",
   "metadata": {
    "execution": {
     "iopub.execute_input": "2023-03-15T23:54:17.630982Z",
     "iopub.status.busy": "2023-03-15T23:54:17.629634Z",
     "iopub.status.idle": "2023-03-16T00:13:25.165725Z",
     "shell.execute_reply": "2023-03-16T00:13:25.164729Z"
    },
    "papermill": {
     "duration": 1147.557732,
     "end_time": "2023-03-16T00:13:25.168309",
     "exception": false,
     "start_time": "2023-03-15T23:54:17.610577",
     "status": "completed"
    },
    "tags": []
   },
   "outputs": [
    {
     "name": "stdout",
     "output_type": "stream",
     "text": [
      "Epoch 1/100\n"
     ]
    },
    {
     "name": "stderr",
     "output_type": "stream",
     "text": [
      "2023-03-15 23:54:21.305875: E tensorflow/core/grappler/optimizers/meta_optimizer.cc:954] layout failed: INVALID_ARGUMENT: Size of values 0 does not match size of permutation 4 @ fanin shape insequential/dropout/dropout/SelectV2-2-TransposeNHWCToNCHW-LayoutOptimizer\n"
     ]
    },
    {
     "name": "stdout",
     "output_type": "stream",
     "text": [
      "1407/1407 - 22s - loss: 1.8699 - accuracy: 0.4367 - val_loss: 1.2629 - val_accuracy: 0.5830 - 22s/epoch - 16ms/step\n",
      "Epoch 2/100\n",
      "1407/1407 - 11s - loss: 1.1991 - accuracy: 0.6124 - val_loss: 0.9179 - val_accuracy: 0.7024 - 11s/epoch - 8ms/step\n",
      "Epoch 3/100\n",
      "1407/1407 - 11s - loss: 0.9664 - accuracy: 0.6864 - val_loss: 0.8033 - val_accuracy: 0.7460 - 11s/epoch - 8ms/step\n",
      "Epoch 4/100\n",
      "1407/1407 - 11s - loss: 0.8581 - accuracy: 0.7291 - val_loss: 0.7781 - val_accuracy: 0.7650 - 11s/epoch - 8ms/step\n",
      "Epoch 5/100\n",
      "1407/1407 - 11s - loss: 0.7988 - accuracy: 0.7558 - val_loss: 0.7728 - val_accuracy: 0.7680 - 11s/epoch - 8ms/step\n",
      "Epoch 6/100\n",
      "1407/1407 - 11s - loss: 0.7584 - accuracy: 0.7718 - val_loss: 0.7346 - val_accuracy: 0.7934 - 11s/epoch - 8ms/step\n",
      "Epoch 7/100\n",
      "1407/1407 - 11s - loss: 0.7264 - accuracy: 0.7929 - val_loss: 0.7323 - val_accuracy: 0.7944 - 11s/epoch - 8ms/step\n",
      "Epoch 8/100\n",
      "1407/1407 - 11s - loss: 0.7048 - accuracy: 0.8052 - val_loss: 0.6831 - val_accuracy: 0.8220 - 11s/epoch - 8ms/step\n",
      "Epoch 9/100\n",
      "1407/1407 - 12s - loss: 0.6899 - accuracy: 0.8150 - val_loss: 0.6887 - val_accuracy: 0.8230 - 12s/epoch - 8ms/step\n",
      "Epoch 10/100\n",
      "1407/1407 - 11s - loss: 0.6708 - accuracy: 0.8236 - val_loss: 0.6664 - val_accuracy: 0.8298 - 11s/epoch - 8ms/step\n",
      "Epoch 11/100\n",
      "1407/1407 - 11s - loss: 0.6598 - accuracy: 0.8312 - val_loss: 0.6713 - val_accuracy: 0.8304 - 11s/epoch - 8ms/step\n",
      "Epoch 12/100\n",
      "1407/1407 - 11s - loss: 0.6481 - accuracy: 0.8363 - val_loss: 0.6745 - val_accuracy: 0.8352 - 11s/epoch - 8ms/step\n",
      "Epoch 13/100\n",
      "1407/1407 - 11s - loss: 0.6437 - accuracy: 0.8425 - val_loss: 0.6839 - val_accuracy: 0.8304 - 11s/epoch - 8ms/step\n",
      "Epoch 14/100\n",
      "1407/1407 - 11s - loss: 0.6361 - accuracy: 0.8460 - val_loss: 0.6617 - val_accuracy: 0.8418 - 11s/epoch - 8ms/step\n",
      "Epoch 15/100\n",
      "1407/1407 - 12s - loss: 0.6297 - accuracy: 0.8512 - val_loss: 0.6799 - val_accuracy: 0.8336 - 12s/epoch - 8ms/step\n",
      "Epoch 16/100\n",
      "1407/1407 - 11s - loss: 0.6246 - accuracy: 0.8539 - val_loss: 0.6620 - val_accuracy: 0.8466 - 11s/epoch - 8ms/step\n",
      "Epoch 17/100\n",
      "1407/1407 - 11s - loss: 0.6160 - accuracy: 0.8598 - val_loss: 0.7068 - val_accuracy: 0.8302 - 11s/epoch - 8ms/step\n",
      "Epoch 18/100\n",
      "1407/1407 - 11s - loss: 0.6090 - accuracy: 0.8629 - val_loss: 0.6672 - val_accuracy: 0.8472 - 11s/epoch - 8ms/step\n",
      "Epoch 19/100\n",
      "1407/1407 - 11s - loss: 0.6098 - accuracy: 0.8617 - val_loss: 0.6553 - val_accuracy: 0.8546 - 11s/epoch - 8ms/step\n",
      "Epoch 20/100\n",
      "1407/1407 - 11s - loss: 0.6073 - accuracy: 0.8652 - val_loss: 0.6643 - val_accuracy: 0.8474 - 11s/epoch - 8ms/step\n",
      "Epoch 21/100\n",
      "1407/1407 - 12s - loss: 0.6047 - accuracy: 0.8667 - val_loss: 0.6846 - val_accuracy: 0.8492 - 12s/epoch - 8ms/step\n",
      "Epoch 22/100\n",
      "1407/1407 - 11s - loss: 0.5949 - accuracy: 0.8715 - val_loss: 0.6830 - val_accuracy: 0.8490 - 11s/epoch - 8ms/step\n",
      "Epoch 23/100\n",
      "1407/1407 - 12s - loss: 0.5987 - accuracy: 0.8714 - val_loss: 0.6981 - val_accuracy: 0.8402 - 12s/epoch - 8ms/step\n",
      "Epoch 24/100\n",
      "1407/1407 - 11s - loss: 0.5914 - accuracy: 0.8743 - val_loss: 0.6834 - val_accuracy: 0.8504 - 11s/epoch - 8ms/step\n",
      "Epoch 25/100\n",
      "1407/1407 - 11s - loss: 0.5924 - accuracy: 0.8727 - val_loss: 0.6829 - val_accuracy: 0.8494 - 11s/epoch - 8ms/step\n",
      "Epoch 26/100\n",
      "1407/1407 - 12s - loss: 0.5913 - accuracy: 0.8766 - val_loss: 0.6695 - val_accuracy: 0.8590 - 12s/epoch - 8ms/step\n",
      "Epoch 27/100\n",
      "1407/1407 - 11s - loss: 0.5875 - accuracy: 0.8768 - val_loss: 0.6887 - val_accuracy: 0.8452 - 11s/epoch - 8ms/step\n",
      "Epoch 28/100\n",
      "1407/1407 - 11s - loss: 0.5862 - accuracy: 0.8791 - val_loss: 0.6576 - val_accuracy: 0.8632 - 11s/epoch - 8ms/step\n",
      "Epoch 29/100\n",
      "1407/1407 - 11s - loss: 0.5841 - accuracy: 0.8795 - val_loss: 0.6829 - val_accuracy: 0.8478 - 11s/epoch - 8ms/step\n",
      "Epoch 30/100\n",
      "1407/1407 - 11s - loss: 0.5816 - accuracy: 0.8810 - val_loss: 0.6810 - val_accuracy: 0.8530 - 11s/epoch - 8ms/step\n",
      "Epoch 31/100\n",
      "1407/1407 - 11s - loss: 0.5852 - accuracy: 0.8803 - val_loss: 0.6738 - val_accuracy: 0.8592 - 11s/epoch - 8ms/step\n",
      "Epoch 32/100\n",
      "1407/1407 - 11s - loss: 0.5829 - accuracy: 0.8819 - val_loss: 0.6743 - val_accuracy: 0.8566 - 11s/epoch - 8ms/step\n",
      "Epoch 33/100\n",
      "1407/1407 - 11s - loss: 0.5834 - accuracy: 0.8812 - val_loss: 0.6827 - val_accuracy: 0.8564 - 11s/epoch - 8ms/step\n",
      "Epoch 34/100\n",
      "1407/1407 - 11s - loss: 0.5767 - accuracy: 0.8852 - val_loss: 0.6733 - val_accuracy: 0.8622 - 11s/epoch - 8ms/step\n",
      "Epoch 35/100\n",
      "1407/1407 - 11s - loss: 0.5694 - accuracy: 0.8875 - val_loss: 0.6928 - val_accuracy: 0.8546 - 11s/epoch - 8ms/step\n",
      "Epoch 36/100\n",
      "1407/1407 - 11s - loss: 0.5765 - accuracy: 0.8846 - val_loss: 0.6761 - val_accuracy: 0.8634 - 11s/epoch - 8ms/step\n",
      "Epoch 37/100\n",
      "1407/1407 - 11s - loss: 0.5699 - accuracy: 0.8875 - val_loss: 0.6590 - val_accuracy: 0.8626 - 11s/epoch - 8ms/step\n",
      "Epoch 38/100\n",
      "1407/1407 - 11s - loss: 0.5713 - accuracy: 0.8885 - val_loss: 0.6662 - val_accuracy: 0.8642 - 11s/epoch - 8ms/step\n",
      "Epoch 39/100\n",
      "1407/1407 - 11s - loss: 0.5682 - accuracy: 0.8895 - val_loss: 0.6816 - val_accuracy: 0.8598 - 11s/epoch - 8ms/step\n",
      "Epoch 40/100\n",
      "1407/1407 - 11s - loss: 0.5707 - accuracy: 0.8891 - val_loss: 0.7024 - val_accuracy: 0.8548 - 11s/epoch - 8ms/step\n",
      "Epoch 41/100\n",
      "1407/1407 - 11s - loss: 0.5730 - accuracy: 0.8879 - val_loss: 0.6618 - val_accuracy: 0.8706 - 11s/epoch - 8ms/step\n",
      "Epoch 42/100\n",
      "1407/1407 - 11s - loss: 0.5662 - accuracy: 0.8895 - val_loss: 0.6725 - val_accuracy: 0.8626 - 11s/epoch - 8ms/step\n",
      "Epoch 43/100\n",
      "1407/1407 - 12s - loss: 0.5640 - accuracy: 0.8900 - val_loss: 0.6626 - val_accuracy: 0.8658 - 12s/epoch - 9ms/step\n",
      "Epoch 44/100\n",
      "1407/1407 - 11s - loss: 0.5686 - accuracy: 0.8893 - val_loss: 0.6824 - val_accuracy: 0.8580 - 11s/epoch - 8ms/step\n",
      "Epoch 45/100\n",
      "1407/1407 - 11s - loss: 0.5694 - accuracy: 0.8883 - val_loss: 0.6747 - val_accuracy: 0.8618 - 11s/epoch - 8ms/step\n",
      "Epoch 46/100\n",
      "1407/1407 - 12s - loss: 0.5648 - accuracy: 0.8910 - val_loss: 0.6658 - val_accuracy: 0.8628 - 12s/epoch - 8ms/step\n",
      "Epoch 47/100\n",
      "1407/1407 - 11s - loss: 0.5632 - accuracy: 0.8923 - val_loss: 0.6606 - val_accuracy: 0.8662 - 11s/epoch - 8ms/step\n",
      "Epoch 48/100\n",
      "1407/1407 - 12s - loss: 0.5606 - accuracy: 0.8922 - val_loss: 0.6891 - val_accuracy: 0.8586 - 12s/epoch - 8ms/step\n",
      "Epoch 49/100\n",
      "1407/1407 - 12s - loss: 0.5609 - accuracy: 0.8927 - val_loss: 0.6676 - val_accuracy: 0.8662 - 12s/epoch - 8ms/step\n",
      "Epoch 50/100\n",
      "1407/1407 - 11s - loss: 0.5632 - accuracy: 0.8929 - val_loss: 0.6771 - val_accuracy: 0.8644 - 11s/epoch - 8ms/step\n",
      "Epoch 51/100\n",
      "1407/1407 - 12s - loss: 0.5566 - accuracy: 0.8950 - val_loss: 0.6887 - val_accuracy: 0.8612 - 12s/epoch - 8ms/step\n",
      "Epoch 52/100\n",
      "1407/1407 - 11s - loss: 0.5611 - accuracy: 0.8924 - val_loss: 0.6678 - val_accuracy: 0.8688 - 11s/epoch - 8ms/step\n",
      "Epoch 53/100\n",
      "1407/1407 - 11s - loss: 0.5538 - accuracy: 0.8969 - val_loss: 0.6790 - val_accuracy: 0.8612 - 11s/epoch - 8ms/step\n",
      "Epoch 54/100\n",
      "1407/1407 - 12s - loss: 0.5597 - accuracy: 0.8933 - val_loss: 0.6625 - val_accuracy: 0.8668 - 12s/epoch - 8ms/step\n",
      "Epoch 55/100\n",
      "1407/1407 - 11s - loss: 0.5545 - accuracy: 0.8950 - val_loss: 0.6826 - val_accuracy: 0.8618 - 11s/epoch - 8ms/step\n",
      "Epoch 56/100\n",
      "1407/1407 - 11s - loss: 0.5564 - accuracy: 0.8957 - val_loss: 0.6670 - val_accuracy: 0.8658 - 11s/epoch - 8ms/step\n",
      "Epoch 57/100\n",
      "1407/1407 - 12s - loss: 0.5576 - accuracy: 0.8952 - val_loss: 0.6904 - val_accuracy: 0.8598 - 12s/epoch - 8ms/step\n",
      "Epoch 58/100\n",
      "1407/1407 - 11s - loss: 0.5558 - accuracy: 0.8959 - val_loss: 0.6812 - val_accuracy: 0.8656 - 11s/epoch - 8ms/step\n",
      "Epoch 59/100\n",
      "1407/1407 - 11s - loss: 0.5552 - accuracy: 0.8956 - val_loss: 0.6815 - val_accuracy: 0.8632 - 11s/epoch - 8ms/step\n",
      "Epoch 60/100\n",
      "1407/1407 - 11s - loss: 0.5538 - accuracy: 0.8969 - val_loss: 0.6848 - val_accuracy: 0.8652 - 11s/epoch - 8ms/step\n",
      "Epoch 61/100\n",
      "1407/1407 - 11s - loss: 0.5530 - accuracy: 0.8956 - val_loss: 0.6579 - val_accuracy: 0.8732 - 11s/epoch - 8ms/step\n",
      "Epoch 62/100\n",
      "1407/1407 - 11s - loss: 0.5481 - accuracy: 0.8980 - val_loss: 0.6949 - val_accuracy: 0.8592 - 11s/epoch - 8ms/step\n",
      "Epoch 63/100\n",
      "1407/1407 - 11s - loss: 0.5517 - accuracy: 0.8980 - val_loss: 0.6764 - val_accuracy: 0.8648 - 11s/epoch - 8ms/step\n",
      "Epoch 64/100\n",
      "1407/1407 - 11s - loss: 0.5543 - accuracy: 0.8973 - val_loss: 0.6682 - val_accuracy: 0.8680 - 11s/epoch - 8ms/step\n",
      "Epoch 65/100\n",
      "1407/1407 - 12s - loss: 0.5500 - accuracy: 0.8984 - val_loss: 0.6844 - val_accuracy: 0.8610 - 12s/epoch - 8ms/step\n",
      "Epoch 66/100\n",
      "1407/1407 - 11s - loss: 0.5474 - accuracy: 0.8998 - val_loss: 0.6596 - val_accuracy: 0.8718 - 11s/epoch - 8ms/step\n",
      "Epoch 67/100\n",
      "1407/1407 - 11s - loss: 0.5487 - accuracy: 0.8983 - val_loss: 0.6834 - val_accuracy: 0.8612 - 11s/epoch - 8ms/step\n",
      "Epoch 68/100\n",
      "1407/1407 - 11s - loss: 0.5469 - accuracy: 0.9000 - val_loss: 0.6670 - val_accuracy: 0.8678 - 11s/epoch - 8ms/step\n",
      "Epoch 69/100\n",
      "1407/1407 - 11s - loss: 0.5517 - accuracy: 0.8987 - val_loss: 0.6541 - val_accuracy: 0.8660 - 11s/epoch - 8ms/step\n",
      "Epoch 70/100\n",
      "1407/1407 - 11s - loss: 0.5430 - accuracy: 0.9000 - val_loss: 0.6750 - val_accuracy: 0.8654 - 11s/epoch - 8ms/step\n",
      "Epoch 71/100\n",
      "1407/1407 - 11s - loss: 0.5468 - accuracy: 0.8997 - val_loss: 0.6841 - val_accuracy: 0.8592 - 11s/epoch - 8ms/step\n",
      "Epoch 72/100\n",
      "1407/1407 - 11s - loss: 0.5557 - accuracy: 0.8968 - val_loss: 0.6692 - val_accuracy: 0.8726 - 11s/epoch - 8ms/step\n",
      "Epoch 73/100\n",
      "1407/1407 - 12s - loss: 0.5467 - accuracy: 0.8997 - val_loss: 0.6836 - val_accuracy: 0.8634 - 12s/epoch - 8ms/step\n",
      "Epoch 74/100\n",
      "1407/1407 - 11s - loss: 0.5440 - accuracy: 0.9005 - val_loss: 0.6544 - val_accuracy: 0.8726 - 11s/epoch - 8ms/step\n",
      "Epoch 75/100\n",
      "1407/1407 - 11s - loss: 0.5468 - accuracy: 0.8998 - val_loss: 0.6487 - val_accuracy: 0.8796 - 11s/epoch - 8ms/step\n",
      "Epoch 76/100\n",
      "1407/1407 - 12s - loss: 0.5443 - accuracy: 0.9012 - val_loss: 0.6723 - val_accuracy: 0.8642 - 12s/epoch - 8ms/step\n",
      "Epoch 77/100\n",
      "1407/1407 - 11s - loss: 0.5413 - accuracy: 0.9021 - val_loss: 0.6810 - val_accuracy: 0.8626 - 11s/epoch - 8ms/step\n",
      "Epoch 78/100\n",
      "1407/1407 - 11s - loss: 0.5425 - accuracy: 0.9010 - val_loss: 0.6635 - val_accuracy: 0.8694 - 11s/epoch - 8ms/step\n",
      "Epoch 79/100\n",
      "1407/1407 - 12s - loss: 0.5490 - accuracy: 0.9001 - val_loss: 0.6767 - val_accuracy: 0.8728 - 12s/epoch - 8ms/step\n",
      "Epoch 80/100\n",
      "1407/1407 - 11s - loss: 0.5411 - accuracy: 0.9020 - val_loss: 0.6723 - val_accuracy: 0.8694 - 11s/epoch - 8ms/step\n",
      "Epoch 81/100\n",
      "1407/1407 - 12s - loss: 0.5487 - accuracy: 0.8994 - val_loss: 0.6875 - val_accuracy: 0.8564 - 12s/epoch - 8ms/step\n",
      "Epoch 82/100\n",
      "1407/1407 - 11s - loss: 0.5411 - accuracy: 0.9034 - val_loss: 0.6640 - val_accuracy: 0.8666 - 11s/epoch - 8ms/step\n",
      "Epoch 83/100\n",
      "1407/1407 - 11s - loss: 0.5449 - accuracy: 0.9008 - val_loss: 0.6822 - val_accuracy: 0.8642 - 11s/epoch - 8ms/step\n",
      "Epoch 84/100\n",
      "1407/1407 - 11s - loss: 0.5398 - accuracy: 0.9033 - val_loss: 0.6814 - val_accuracy: 0.8696 - 11s/epoch - 8ms/step\n",
      "Epoch 85/100\n",
      "1407/1407 - 11s - loss: 0.5401 - accuracy: 0.9036 - val_loss: 0.6719 - val_accuracy: 0.8666 - 11s/epoch - 8ms/step\n",
      "Epoch 86/100\n",
      "1407/1407 - 11s - loss: 0.5464 - accuracy: 0.9000 - val_loss: 0.6813 - val_accuracy: 0.8592 - 11s/epoch - 8ms/step\n",
      "Epoch 87/100\n",
      "1407/1407 - 11s - loss: 0.5428 - accuracy: 0.9017 - val_loss: 0.6747 - val_accuracy: 0.8722 - 11s/epoch - 8ms/step\n",
      "Epoch 88/100\n",
      "1407/1407 - 11s - loss: 0.5421 - accuracy: 0.9034 - val_loss: 0.6606 - val_accuracy: 0.8760 - 11s/epoch - 8ms/step\n",
      "Epoch 89/100\n",
      "1407/1407 - 11s - loss: 0.5426 - accuracy: 0.9027 - val_loss: 0.6584 - val_accuracy: 0.8694 - 11s/epoch - 8ms/step\n",
      "Epoch 90/100\n",
      "1407/1407 - 12s - loss: 0.5399 - accuracy: 0.9032 - val_loss: 0.6683 - val_accuracy: 0.8710 - 12s/epoch - 8ms/step\n",
      "Epoch 91/100\n",
      "1407/1407 - 11s - loss: 0.5445 - accuracy: 0.9030 - val_loss: 0.6518 - val_accuracy: 0.8732 - 11s/epoch - 8ms/step\n",
      "Epoch 92/100\n",
      "1407/1407 - 11s - loss: 0.5408 - accuracy: 0.9000 - val_loss: 0.6709 - val_accuracy: 0.8662 - 11s/epoch - 8ms/step\n",
      "Epoch 93/100\n",
      "1407/1407 - 12s - loss: 0.5376 - accuracy: 0.9027 - val_loss: 0.6706 - val_accuracy: 0.8676 - 12s/epoch - 8ms/step\n",
      "Epoch 94/100\n",
      "1407/1407 - 11s - loss: 0.5388 - accuracy: 0.9028 - val_loss: 0.6685 - val_accuracy: 0.8650 - 11s/epoch - 8ms/step\n",
      "Epoch 95/100\n",
      "1407/1407 - 11s - loss: 0.5384 - accuracy: 0.9025 - val_loss: 0.6613 - val_accuracy: 0.8702 - 11s/epoch - 8ms/step\n",
      "Epoch 96/100\n",
      "1407/1407 - 11s - loss: 0.5390 - accuracy: 0.9044 - val_loss: 0.6757 - val_accuracy: 0.8690 - 11s/epoch - 8ms/step\n",
      "Epoch 97/100\n",
      "1407/1407 - 11s - loss: 0.5434 - accuracy: 0.9034 - val_loss: 0.6706 - val_accuracy: 0.8678 - 11s/epoch - 8ms/step\n",
      "Epoch 98/100\n",
      "1407/1407 - 11s - loss: 0.5409 - accuracy: 0.9028 - val_loss: 0.6662 - val_accuracy: 0.8718 - 11s/epoch - 8ms/step\n",
      "Epoch 99/100\n",
      "1407/1407 - 11s - loss: 0.5379 - accuracy: 0.9035 - val_loss: 0.6709 - val_accuracy: 0.8700 - 11s/epoch - 8ms/step\n",
      "Epoch 100/100\n",
      "1407/1407 - 11s - loss: 0.5349 - accuracy: 0.9060 - val_loss: 0.6729 - val_accuracy: 0.8626 - 11s/epoch - 8ms/step\n"
     ]
    }
   ],
   "source": [
    "hist = model.fit(x_train, y_train, batch_size=32,epochs=100,\n",
    "               validation_data=(x_valid, y_valid),\n",
    "               verbose=2, shuffle=True)"
   ]
  },
  {
   "cell_type": "markdown",
   "id": "6291706c",
   "metadata": {
    "papermill": {
     "duration": 0.027467,
     "end_time": "2023-03-16T00:13:25.224018",
     "exception": false,
     "start_time": "2023-03-16T00:13:25.196551",
     "status": "completed"
    },
    "tags": []
   },
   "source": [
    "### Callbacks"
   ]
  },
  {
   "cell_type": "code",
   "execution_count": 18,
   "id": "bfe3645c",
   "metadata": {
    "execution": {
     "iopub.execute_input": "2023-03-16T00:13:25.281810Z",
     "iopub.status.busy": "2023-03-16T00:13:25.280862Z",
     "iopub.status.idle": "2023-03-16T00:13:25.286307Z",
     "shell.execute_reply": "2023-03-16T00:13:25.285281Z"
    },
    "papermill": {
     "duration": 0.037037,
     "end_time": "2023-03-16T00:13:25.288469",
     "exception": false,
     "start_time": "2023-03-16T00:13:25.251432",
     "status": "completed"
    },
    "tags": []
   },
   "outputs": [],
   "source": [
    "checkpoint = ModelCheckpoint('my_best_model.hdf5',verbose=1,save_best_only=True, monitor = 'val_accuracy')"
   ]
  },
  {
   "cell_type": "markdown",
   "id": "de0e376c",
   "metadata": {
    "papermill": {
     "duration": 0.027237,
     "end_time": "2023-03-16T00:13:25.343331",
     "exception": false,
     "start_time": "2023-03-16T00:13:25.316094",
     "status": "completed"
    },
    "tags": []
   },
   "source": [
    "### Model Training"
   ]
  },
  {
   "cell_type": "code",
   "execution_count": 19,
   "id": "b50ff85f",
   "metadata": {
    "execution": {
     "iopub.execute_input": "2023-03-16T00:13:25.401391Z",
     "iopub.status.busy": "2023-03-16T00:13:25.400286Z",
     "iopub.status.idle": "2023-03-16T01:18:42.930909Z",
     "shell.execute_reply": "2023-03-16T01:18:42.929935Z"
    },
    "papermill": {
     "duration": 3917.561491,
     "end_time": "2023-03-16T01:18:42.933300",
     "exception": false,
     "start_time": "2023-03-16T00:13:25.371809",
     "status": "completed"
    },
    "tags": []
   },
   "outputs": [
    {
     "name": "stdout",
     "output_type": "stream",
     "text": [
      "Epoch 1/120\n"
     ]
    },
    {
     "name": "stderr",
     "output_type": "stream",
     "text": [
      "2023-03-16 00:13:26.196684: E tensorflow/core/grappler/optimizers/meta_optimizer.cc:954] layout failed: INVALID_ARGUMENT: Size of values 0 does not match size of permutation 4 @ fanin shape insequential/dropout/dropout/SelectV2-2-TransposeNHWCToNCHW-LayoutOptimizer\n"
     ]
    },
    {
     "name": "stdout",
     "output_type": "stream",
     "text": [
      "\n",
      "Epoch 1: val_accuracy improved from -inf to 0.81180, saving model to my_best_model.hdf5\n",
      "351/351 - 25s - loss: 1.2758 - accuracy: 0.6590 - val_loss: 0.8036 - val_accuracy: 0.8118 - 25s/epoch - 70ms/step\n",
      "Epoch 2/120\n",
      "\n",
      "Epoch 2: val_accuracy did not improve from 0.81180\n",
      "351/351 - 23s - loss: 1.0892 - accuracy: 0.7037 - val_loss: 0.8095 - val_accuracy: 0.8074 - 23s/epoch - 64ms/step\n",
      "Epoch 3/120\n",
      "\n",
      "Epoch 3: val_accuracy did not improve from 0.81180\n",
      "351/351 - 23s - loss: 1.0266 - accuracy: 0.7253 - val_loss: 0.8218 - val_accuracy: 0.8028 - 23s/epoch - 66ms/step\n",
      "Epoch 4/120\n",
      "\n",
      "Epoch 4: val_accuracy improved from 0.81180 to 0.82160, saving model to my_best_model.hdf5\n",
      "351/351 - 23s - loss: 0.9873 - accuracy: 0.7337 - val_loss: 0.7579 - val_accuracy: 0.8216 - 23s/epoch - 65ms/step\n",
      "Epoch 5/120\n",
      "\n",
      "Epoch 5: val_accuracy did not improve from 0.82160\n",
      "351/351 - 23s - loss: 0.9564 - accuracy: 0.7467 - val_loss: 0.7897 - val_accuracy: 0.8094 - 23s/epoch - 67ms/step\n",
      "Epoch 6/120\n",
      "\n",
      "Epoch 6: val_accuracy did not improve from 0.82160\n",
      "351/351 - 22s - loss: 0.9315 - accuracy: 0.7508 - val_loss: 0.7729 - val_accuracy: 0.8158 - 22s/epoch - 63ms/step\n",
      "Epoch 7/120\n",
      "\n",
      "Epoch 7: val_accuracy improved from 0.82160 to 0.83380, saving model to my_best_model.hdf5\n",
      "351/351 - 22s - loss: 0.9122 - accuracy: 0.7535 - val_loss: 0.7053 - val_accuracy: 0.8338 - 22s/epoch - 64ms/step\n",
      "Epoch 8/120\n",
      "\n",
      "Epoch 8: val_accuracy did not improve from 0.83380\n",
      "351/351 - 22s - loss: 0.8885 - accuracy: 0.7610 - val_loss: 0.7302 - val_accuracy: 0.8190 - 22s/epoch - 62ms/step\n",
      "Epoch 9/120\n",
      "\n",
      "Epoch 9: val_accuracy did not improve from 0.83380\n",
      "351/351 - 22s - loss: 0.8757 - accuracy: 0.7614 - val_loss: 0.7046 - val_accuracy: 0.8280 - 22s/epoch - 63ms/step\n",
      "Epoch 10/120\n",
      "\n",
      "Epoch 10: val_accuracy did not improve from 0.83380\n",
      "351/351 - 22s - loss: 0.8645 - accuracy: 0.7668 - val_loss: 0.7274 - val_accuracy: 0.8178 - 22s/epoch - 63ms/step\n",
      "Epoch 11/120\n",
      "\n",
      "Epoch 11: val_accuracy did not improve from 0.83380\n",
      "351/351 - 22s - loss: 0.8486 - accuracy: 0.7697 - val_loss: 0.7181 - val_accuracy: 0.8200 - 22s/epoch - 61ms/step\n",
      "Epoch 12/120\n",
      "\n",
      "Epoch 12: val_accuracy improved from 0.83380 to 0.83940, saving model to my_best_model.hdf5\n",
      "351/351 - 22s - loss: 0.8395 - accuracy: 0.7692 - val_loss: 0.6616 - val_accuracy: 0.8394 - 22s/epoch - 63ms/step\n",
      "Epoch 13/120\n",
      "\n",
      "Epoch 13: val_accuracy did not improve from 0.83940\n",
      "351/351 - 21s - loss: 0.8272 - accuracy: 0.7742 - val_loss: 0.7689 - val_accuracy: 0.8030 - 21s/epoch - 61ms/step\n",
      "Epoch 14/120\n",
      "\n",
      "Epoch 14: val_accuracy did not improve from 0.83940\n",
      "351/351 - 22s - loss: 0.8204 - accuracy: 0.7739 - val_loss: 0.7185 - val_accuracy: 0.8152 - 22s/epoch - 63ms/step\n",
      "Epoch 15/120\n",
      "\n",
      "Epoch 15: val_accuracy did not improve from 0.83940\n",
      "351/351 - 21s - loss: 0.8105 - accuracy: 0.7774 - val_loss: 0.7182 - val_accuracy: 0.8178 - 21s/epoch - 61ms/step\n",
      "Epoch 16/120\n",
      "\n",
      "Epoch 16: val_accuracy did not improve from 0.83940\n",
      "351/351 - 22s - loss: 0.8022 - accuracy: 0.7797 - val_loss: 0.6668 - val_accuracy: 0.8294 - 22s/epoch - 63ms/step\n",
      "Epoch 17/120\n",
      "\n",
      "Epoch 17: val_accuracy did not improve from 0.83940\n",
      "351/351 - 23s - loss: 0.7997 - accuracy: 0.7814 - val_loss: 0.7216 - val_accuracy: 0.8150 - 23s/epoch - 67ms/step\n",
      "Epoch 18/120\n",
      "\n",
      "Epoch 18: val_accuracy did not improve from 0.83940\n",
      "351/351 - 23s - loss: 0.7948 - accuracy: 0.7809 - val_loss: 0.7123 - val_accuracy: 0.8192 - 23s/epoch - 64ms/step\n",
      "Epoch 19/120\n",
      "\n",
      "Epoch 19: val_accuracy improved from 0.83940 to 0.84000, saving model to my_best_model.hdf5\n",
      "351/351 - 23s - loss: 0.7803 - accuracy: 0.7845 - val_loss: 0.6490 - val_accuracy: 0.8400 - 23s/epoch - 66ms/step\n",
      "Epoch 20/120\n",
      "\n",
      "Epoch 20: val_accuracy did not improve from 0.84000\n",
      "351/351 - 22s - loss: 0.7770 - accuracy: 0.7859 - val_loss: 0.6497 - val_accuracy: 0.8372 - 22s/epoch - 63ms/step\n",
      "Epoch 21/120\n",
      "\n",
      "Epoch 21: val_accuracy did not improve from 0.84000\n",
      "351/351 - 22s - loss: 0.7791 - accuracy: 0.7839 - val_loss: 0.6673 - val_accuracy: 0.8302 - 22s/epoch - 63ms/step\n",
      "Epoch 22/120\n",
      "\n",
      "Epoch 22: val_accuracy did not improve from 0.84000\n",
      "351/351 - 22s - loss: 0.7759 - accuracy: 0.7841 - val_loss: 0.6871 - val_accuracy: 0.8234 - 22s/epoch - 61ms/step\n",
      "Epoch 23/120\n",
      "\n",
      "Epoch 23: val_accuracy did not improve from 0.84000\n",
      "351/351 - 22s - loss: 0.7669 - accuracy: 0.7871 - val_loss: 0.6707 - val_accuracy: 0.8282 - 22s/epoch - 63ms/step\n",
      "Epoch 24/120\n",
      "\n",
      "Epoch 24: val_accuracy did not improve from 0.84000\n",
      "351/351 - 22s - loss: 0.7714 - accuracy: 0.7849 - val_loss: 0.6688 - val_accuracy: 0.8316 - 22s/epoch - 64ms/step\n",
      "Epoch 25/120\n",
      "\n",
      "Epoch 25: val_accuracy did not improve from 0.84000\n",
      "351/351 - 21s - loss: 0.7630 - accuracy: 0.7882 - val_loss: 0.6867 - val_accuracy: 0.8206 - 21s/epoch - 61ms/step\n",
      "Epoch 26/120\n",
      "\n",
      "Epoch 26: val_accuracy did not improve from 0.84000\n",
      "351/351 - 23s - loss: 0.7604 - accuracy: 0.7900 - val_loss: 0.6521 - val_accuracy: 0.8340 - 23s/epoch - 64ms/step\n",
      "Epoch 27/120\n",
      "\n",
      "Epoch 27: val_accuracy improved from 0.84000 to 0.84460, saving model to my_best_model.hdf5\n",
      "351/351 - 23s - loss: 0.7514 - accuracy: 0.7916 - val_loss: 0.6282 - val_accuracy: 0.8446 - 23s/epoch - 65ms/step\n",
      "Epoch 28/120\n",
      "\n",
      "Epoch 28: val_accuracy did not improve from 0.84460\n",
      "351/351 - 22s - loss: 0.7505 - accuracy: 0.7934 - val_loss: 0.6394 - val_accuracy: 0.8362 - 22s/epoch - 62ms/step\n",
      "Epoch 29/120\n",
      "\n",
      "Epoch 29: val_accuracy did not improve from 0.84460\n",
      "351/351 - 23s - loss: 0.7489 - accuracy: 0.7934 - val_loss: 0.7265 - val_accuracy: 0.8138 - 23s/epoch - 67ms/step\n",
      "Epoch 30/120\n",
      "\n",
      "Epoch 30: val_accuracy did not improve from 0.84460\n",
      "351/351 - 22s - loss: 0.7436 - accuracy: 0.7949 - val_loss: 0.6514 - val_accuracy: 0.8344 - 22s/epoch - 62ms/step\n",
      "Epoch 31/120\n",
      "\n",
      "Epoch 31: val_accuracy did not improve from 0.84460\n",
      "351/351 - 23s - loss: 0.7374 - accuracy: 0.7956 - val_loss: 0.6754 - val_accuracy: 0.8268 - 23s/epoch - 64ms/step\n",
      "Epoch 32/120\n",
      "\n",
      "Epoch 32: val_accuracy improved from 0.84460 to 0.84760, saving model to my_best_model.hdf5\n",
      "351/351 - 22s - loss: 0.7423 - accuracy: 0.7937 - val_loss: 0.6052 - val_accuracy: 0.8476 - 22s/epoch - 62ms/step\n",
      "Epoch 33/120\n",
      "\n",
      "Epoch 33: val_accuracy did not improve from 0.84760\n",
      "351/351 - 22s - loss: 0.7383 - accuracy: 0.7963 - val_loss: 0.6746 - val_accuracy: 0.8230 - 22s/epoch - 63ms/step\n",
      "Epoch 34/120\n",
      "\n",
      "Epoch 34: val_accuracy did not improve from 0.84760\n",
      "351/351 - 22s - loss: 0.7366 - accuracy: 0.7965 - val_loss: 0.6835 - val_accuracy: 0.8200 - 22s/epoch - 62ms/step\n",
      "Epoch 35/120\n",
      "\n",
      "Epoch 35: val_accuracy did not improve from 0.84760\n",
      "351/351 - 22s - loss: 0.7362 - accuracy: 0.7948 - val_loss: 0.6323 - val_accuracy: 0.8418 - 22s/epoch - 63ms/step\n",
      "Epoch 36/120\n",
      "\n",
      "Epoch 36: val_accuracy did not improve from 0.84760\n",
      "351/351 - 22s - loss: 0.7361 - accuracy: 0.7964 - val_loss: 0.6485 - val_accuracy: 0.8354 - 22s/epoch - 64ms/step\n",
      "Epoch 37/120\n",
      "\n",
      "Epoch 37: val_accuracy did not improve from 0.84760\n",
      "351/351 - 22s - loss: 0.7341 - accuracy: 0.7982 - val_loss: 0.7270 - val_accuracy: 0.8084 - 22s/epoch - 62ms/step\n",
      "Epoch 38/120\n",
      "\n",
      "Epoch 38: val_accuracy did not improve from 0.84760\n",
      "351/351 - 22s - loss: 0.7320 - accuracy: 0.7978 - val_loss: 0.6601 - val_accuracy: 0.8262 - 22s/epoch - 64ms/step\n",
      "Epoch 39/120\n",
      "\n",
      "Epoch 39: val_accuracy did not improve from 0.84760\n",
      "351/351 - 22s - loss: 0.7338 - accuracy: 0.7984 - val_loss: 0.6351 - val_accuracy: 0.8364 - 22s/epoch - 63ms/step\n",
      "Epoch 40/120\n",
      "\n",
      "Epoch 40: val_accuracy did not improve from 0.84760\n",
      "351/351 - 22s - loss: 0.7273 - accuracy: 0.7988 - val_loss: 0.7099 - val_accuracy: 0.8150 - 22s/epoch - 63ms/step\n",
      "Epoch 41/120\n",
      "\n",
      "Epoch 41: val_accuracy did not improve from 0.84760\n",
      "351/351 - 22s - loss: 0.7314 - accuracy: 0.7973 - val_loss: 0.6384 - val_accuracy: 0.8396 - 22s/epoch - 64ms/step\n",
      "Epoch 42/120\n",
      "\n",
      "Epoch 42: val_accuracy did not improve from 0.84760\n",
      "351/351 - 23s - loss: 0.7218 - accuracy: 0.8024 - val_loss: 0.6568 - val_accuracy: 0.8346 - 23s/epoch - 65ms/step\n",
      "Epoch 43/120\n",
      "\n",
      "Epoch 43: val_accuracy did not improve from 0.84760\n",
      "351/351 - 22s - loss: 0.7252 - accuracy: 0.8001 - val_loss: 0.6745 - val_accuracy: 0.8278 - 22s/epoch - 64ms/step\n",
      "Epoch 44/120\n",
      "\n",
      "Epoch 44: val_accuracy did not improve from 0.84760\n",
      "351/351 - 22s - loss: 0.7217 - accuracy: 0.8006 - val_loss: 0.7066 - val_accuracy: 0.8194 - 22s/epoch - 64ms/step\n",
      "Epoch 45/120\n",
      "\n",
      "Epoch 45: val_accuracy did not improve from 0.84760\n",
      "351/351 - 23s - loss: 0.7158 - accuracy: 0.8028 - val_loss: 0.6802 - val_accuracy: 0.8262 - 23s/epoch - 66ms/step\n",
      "Epoch 46/120\n",
      "\n",
      "Epoch 46: val_accuracy did not improve from 0.84760\n",
      "351/351 - 22s - loss: 0.7205 - accuracy: 0.8010 - val_loss: 0.7525 - val_accuracy: 0.8082 - 22s/epoch - 64ms/step\n",
      "Epoch 47/120\n",
      "\n",
      "Epoch 47: val_accuracy did not improve from 0.84760\n",
      "351/351 - 23s - loss: 0.7178 - accuracy: 0.8030 - val_loss: 0.6610 - val_accuracy: 0.8320 - 23s/epoch - 65ms/step\n",
      "Epoch 48/120\n",
      "\n",
      "Epoch 48: val_accuracy improved from 0.84760 to 0.85140, saving model to my_best_model.hdf5\n",
      "351/351 - 22s - loss: 0.7201 - accuracy: 0.8009 - val_loss: 0.5964 - val_accuracy: 0.8514 - 22s/epoch - 64ms/step\n",
      "Epoch 49/120\n",
      "\n",
      "Epoch 49: val_accuracy did not improve from 0.85140\n",
      "351/351 - 22s - loss: 0.7186 - accuracy: 0.8006 - val_loss: 0.6449 - val_accuracy: 0.8396 - 22s/epoch - 64ms/step\n",
      "Epoch 50/120\n",
      "\n",
      "Epoch 50: val_accuracy improved from 0.85140 to 0.85240, saving model to my_best_model.hdf5\n",
      "351/351 - 22s - loss: 0.7171 - accuracy: 0.8041 - val_loss: 0.6051 - val_accuracy: 0.8524 - 22s/epoch - 64ms/step\n",
      "Epoch 51/120\n",
      "\n",
      "Epoch 51: val_accuracy did not improve from 0.85240\n",
      "351/351 - 23s - loss: 0.7162 - accuracy: 0.8014 - val_loss: 0.6058 - val_accuracy: 0.8498 - 23s/epoch - 65ms/step\n",
      "Epoch 52/120\n",
      "\n",
      "Epoch 52: val_accuracy did not improve from 0.85240\n",
      "351/351 - 22s - loss: 0.7073 - accuracy: 0.8075 - val_loss: 0.6811 - val_accuracy: 0.8280 - 22s/epoch - 64ms/step\n",
      "Epoch 53/120\n",
      "\n",
      "Epoch 53: val_accuracy did not improve from 0.85240\n",
      "351/351 - 23s - loss: 0.7147 - accuracy: 0.8020 - val_loss: 0.6626 - val_accuracy: 0.8330 - 23s/epoch - 64ms/step\n",
      "Epoch 54/120\n",
      "\n",
      "Epoch 54: val_accuracy did not improve from 0.85240\n",
      "351/351 - 22s - loss: 0.7149 - accuracy: 0.8042 - val_loss: 0.6215 - val_accuracy: 0.8432 - 22s/epoch - 62ms/step\n",
      "Epoch 55/120\n",
      "\n",
      "Epoch 55: val_accuracy did not improve from 0.85240\n",
      "351/351 - 23s - loss: 0.7063 - accuracy: 0.8064 - val_loss: 0.6279 - val_accuracy: 0.8442 - 23s/epoch - 65ms/step\n",
      "Epoch 56/120\n",
      "\n",
      "Epoch 56: val_accuracy did not improve from 0.85240\n",
      "351/351 - 22s - loss: 0.7065 - accuracy: 0.8054 - val_loss: 0.6423 - val_accuracy: 0.8322 - 22s/epoch - 63ms/step\n",
      "Epoch 57/120\n",
      "\n",
      "Epoch 57: val_accuracy did not improve from 0.85240\n",
      "351/351 - 22s - loss: 0.7148 - accuracy: 0.8040 - val_loss: 0.6160 - val_accuracy: 0.8430 - 22s/epoch - 62ms/step\n",
      "Epoch 58/120\n",
      "\n",
      "Epoch 58: val_accuracy did not improve from 0.85240\n",
      "351/351 - 22s - loss: 0.7093 - accuracy: 0.8047 - val_loss: 0.6107 - val_accuracy: 0.8466 - 22s/epoch - 63ms/step\n",
      "Epoch 59/120\n",
      "\n",
      "Epoch 59: val_accuracy did not improve from 0.85240\n",
      "351/351 - 22s - loss: 0.7086 - accuracy: 0.8058 - val_loss: 0.6025 - val_accuracy: 0.8502 - 22s/epoch - 62ms/step\n",
      "Epoch 60/120\n",
      "\n",
      "Epoch 60: val_accuracy did not improve from 0.85240\n",
      "351/351 - 22s - loss: 0.7112 - accuracy: 0.8039 - val_loss: 0.6854 - val_accuracy: 0.8286 - 22s/epoch - 63ms/step\n",
      "Epoch 61/120\n",
      "\n",
      "Epoch 61: val_accuracy did not improve from 0.85240\n",
      "351/351 - 22s - loss: 0.7015 - accuracy: 0.8082 - val_loss: 0.6526 - val_accuracy: 0.8352 - 22s/epoch - 63ms/step\n",
      "Epoch 62/120\n",
      "\n",
      "Epoch 62: val_accuracy did not improve from 0.85240\n",
      "351/351 - 22s - loss: 0.7075 - accuracy: 0.8074 - val_loss: 0.6282 - val_accuracy: 0.8368 - 22s/epoch - 63ms/step\n",
      "Epoch 63/120\n",
      "\n",
      "Epoch 63: val_accuracy did not improve from 0.85240\n",
      "351/351 - 23s - loss: 0.7017 - accuracy: 0.8101 - val_loss: 0.6204 - val_accuracy: 0.8424 - 23s/epoch - 64ms/step\n",
      "Epoch 64/120\n",
      "\n",
      "Epoch 64: val_accuracy did not improve from 0.85240\n",
      "351/351 - 22s - loss: 0.7045 - accuracy: 0.8080 - val_loss: 0.6313 - val_accuracy: 0.8452 - 22s/epoch - 62ms/step\n",
      "Epoch 65/120\n",
      "\n",
      "Epoch 65: val_accuracy did not improve from 0.85240\n",
      "351/351 - 22s - loss: 0.7083 - accuracy: 0.8069 - val_loss: 0.6576 - val_accuracy: 0.8306 - 22s/epoch - 64ms/step\n",
      "Epoch 66/120\n",
      "\n",
      "Epoch 66: val_accuracy did not improve from 0.85240\n",
      "351/351 - 22s - loss: 0.7062 - accuracy: 0.8070 - val_loss: 0.6993 - val_accuracy: 0.8180 - 22s/epoch - 64ms/step\n",
      "Epoch 67/120\n",
      "\n",
      "Epoch 67: val_accuracy did not improve from 0.85240\n",
      "351/351 - 22s - loss: 0.6964 - accuracy: 0.8112 - val_loss: 0.6396 - val_accuracy: 0.8348 - 22s/epoch - 63ms/step\n",
      "Epoch 68/120\n",
      "\n",
      "Epoch 68: val_accuracy did not improve from 0.85240\n",
      "351/351 - 22s - loss: 0.7019 - accuracy: 0.8078 - val_loss: 0.6470 - val_accuracy: 0.8366 - 22s/epoch - 62ms/step\n",
      "Epoch 69/120\n",
      "\n",
      "Epoch 69: val_accuracy did not improve from 0.85240\n",
      "351/351 - 22s - loss: 0.7022 - accuracy: 0.8075 - val_loss: 0.6230 - val_accuracy: 0.8448 - 22s/epoch - 63ms/step\n",
      "Epoch 70/120\n",
      "\n",
      "Epoch 70: val_accuracy did not improve from 0.85240\n",
      "351/351 - 22s - loss: 0.6956 - accuracy: 0.8097 - val_loss: 0.6164 - val_accuracy: 0.8444 - 22s/epoch - 63ms/step\n",
      "Epoch 71/120\n",
      "\n",
      "Epoch 71: val_accuracy did not improve from 0.85240\n",
      "351/351 - 23s - loss: 0.7019 - accuracy: 0.8087 - val_loss: 0.6088 - val_accuracy: 0.8476 - 23s/epoch - 65ms/step\n",
      "Epoch 72/120\n",
      "\n",
      "Epoch 72: val_accuracy did not improve from 0.85240\n",
      "351/351 - 23s - loss: 0.7000 - accuracy: 0.8081 - val_loss: 0.6485 - val_accuracy: 0.8358 - 23s/epoch - 64ms/step\n",
      "Epoch 73/120\n",
      "\n",
      "Epoch 73: val_accuracy did not improve from 0.85240\n",
      "351/351 - 23s - loss: 0.6950 - accuracy: 0.8099 - val_loss: 0.6301 - val_accuracy: 0.8408 - 23s/epoch - 65ms/step\n",
      "Epoch 74/120\n",
      "\n",
      "Epoch 74: val_accuracy did not improve from 0.85240\n",
      "351/351 - 22s - loss: 0.7005 - accuracy: 0.8101 - val_loss: 0.6488 - val_accuracy: 0.8348 - 22s/epoch - 62ms/step\n",
      "Epoch 75/120\n",
      "\n",
      "Epoch 75: val_accuracy did not improve from 0.85240\n",
      "351/351 - 22s - loss: 0.6968 - accuracy: 0.8108 - val_loss: 0.6589 - val_accuracy: 0.8314 - 22s/epoch - 63ms/step\n",
      "Epoch 76/120\n",
      "\n",
      "Epoch 76: val_accuracy did not improve from 0.85240\n",
      "351/351 - 22s - loss: 0.6969 - accuracy: 0.8082 - val_loss: 0.6288 - val_accuracy: 0.8432 - 22s/epoch - 63ms/step\n",
      "Epoch 77/120\n",
      "\n",
      "Epoch 77: val_accuracy did not improve from 0.85240\n",
      "351/351 - 22s - loss: 0.7025 - accuracy: 0.8073 - val_loss: 0.6365 - val_accuracy: 0.8300 - 22s/epoch - 64ms/step\n",
      "Epoch 78/120\n",
      "\n",
      "Epoch 78: val_accuracy did not improve from 0.85240\n",
      "351/351 - 22s - loss: 0.6989 - accuracy: 0.8095 - val_loss: 0.5903 - val_accuracy: 0.8506 - 22s/epoch - 63ms/step\n",
      "Epoch 79/120\n",
      "\n",
      "Epoch 79: val_accuracy did not improve from 0.85240\n",
      "351/351 - 22s - loss: 0.6997 - accuracy: 0.8090 - val_loss: 0.6361 - val_accuracy: 0.8338 - 22s/epoch - 62ms/step\n",
      "Epoch 80/120\n",
      "\n",
      "Epoch 80: val_accuracy did not improve from 0.85240\n",
      "351/351 - 22s - loss: 0.6966 - accuracy: 0.8099 - val_loss: 0.6761 - val_accuracy: 0.8230 - 22s/epoch - 64ms/step\n",
      "Epoch 81/120\n",
      "\n",
      "Epoch 81: val_accuracy improved from 0.85240 to 0.85340, saving model to my_best_model.hdf5\n",
      "351/351 - 22s - loss: 0.6951 - accuracy: 0.8112 - val_loss: 0.5951 - val_accuracy: 0.8534 - 22s/epoch - 63ms/step\n",
      "Epoch 82/120\n",
      "\n",
      "Epoch 82: val_accuracy did not improve from 0.85340\n",
      "351/351 - 23s - loss: 0.6970 - accuracy: 0.8111 - val_loss: 0.6515 - val_accuracy: 0.8324 - 23s/epoch - 65ms/step\n",
      "Epoch 83/120\n",
      "\n",
      "Epoch 83: val_accuracy did not improve from 0.85340\n",
      "351/351 - 23s - loss: 0.6941 - accuracy: 0.8101 - val_loss: 0.6603 - val_accuracy: 0.8300 - 23s/epoch - 67ms/step\n",
      "Epoch 84/120\n",
      "\n",
      "Epoch 84: val_accuracy did not improve from 0.85340\n",
      "351/351 - 23s - loss: 0.6942 - accuracy: 0.8090 - val_loss: 0.6621 - val_accuracy: 0.8326 - 23s/epoch - 65ms/step\n",
      "Epoch 85/120\n",
      "\n",
      "Epoch 85: val_accuracy did not improve from 0.85340\n",
      "351/351 - 23s - loss: 0.6925 - accuracy: 0.8118 - val_loss: 0.6667 - val_accuracy: 0.8294 - 23s/epoch - 65ms/step\n",
      "Epoch 86/120\n",
      "\n",
      "Epoch 86: val_accuracy did not improve from 0.85340\n",
      "351/351 - 23s - loss: 0.6922 - accuracy: 0.8110 - val_loss: 0.6443 - val_accuracy: 0.8334 - 23s/epoch - 65ms/step\n",
      "Epoch 87/120\n",
      "\n",
      "Epoch 87: val_accuracy did not improve from 0.85340\n",
      "351/351 - 23s - loss: 0.6912 - accuracy: 0.8105 - val_loss: 0.6538 - val_accuracy: 0.8344 - 23s/epoch - 66ms/step\n",
      "Epoch 88/120\n",
      "\n",
      "Epoch 88: val_accuracy did not improve from 0.85340\n",
      "351/351 - 23s - loss: 0.6914 - accuracy: 0.8098 - val_loss: 0.6398 - val_accuracy: 0.8412 - 23s/epoch - 65ms/step\n",
      "Epoch 89/120\n",
      "\n",
      "Epoch 89: val_accuracy did not improve from 0.85340\n",
      "351/351 - 23s - loss: 0.6923 - accuracy: 0.8113 - val_loss: 0.6032 - val_accuracy: 0.8440 - 23s/epoch - 65ms/step\n",
      "Epoch 90/120\n",
      "\n",
      "Epoch 90: val_accuracy did not improve from 0.85340\n",
      "351/351 - 23s - loss: 0.6902 - accuracy: 0.8128 - val_loss: 0.6318 - val_accuracy: 0.8412 - 23s/epoch - 66ms/step\n",
      "Epoch 91/120\n",
      "\n",
      "Epoch 91: val_accuracy did not improve from 0.85340\n",
      "351/351 - 23s - loss: 0.6948 - accuracy: 0.8111 - val_loss: 0.6074 - val_accuracy: 0.8472 - 23s/epoch - 66ms/step\n",
      "Epoch 92/120\n",
      "\n",
      "Epoch 92: val_accuracy did not improve from 0.85340\n",
      "351/351 - 24s - loss: 0.6877 - accuracy: 0.8118 - val_loss: 0.5967 - val_accuracy: 0.8498 - 24s/epoch - 67ms/step\n",
      "Epoch 93/120\n",
      "\n",
      "Epoch 93: val_accuracy did not improve from 0.85340\n",
      "351/351 - 23s - loss: 0.6882 - accuracy: 0.8138 - val_loss: 0.6437 - val_accuracy: 0.8372 - 23s/epoch - 65ms/step\n",
      "Epoch 94/120\n",
      "\n",
      "Epoch 94: val_accuracy did not improve from 0.85340\n",
      "351/351 - 23s - loss: 0.6899 - accuracy: 0.8121 - val_loss: 0.6143 - val_accuracy: 0.8454 - 23s/epoch - 66ms/step\n",
      "Epoch 95/120\n",
      "\n",
      "Epoch 95: val_accuracy did not improve from 0.85340\n",
      "351/351 - 22s - loss: 0.6875 - accuracy: 0.8123 - val_loss: 0.6264 - val_accuracy: 0.8414 - 22s/epoch - 63ms/step\n",
      "Epoch 96/120\n",
      "\n",
      "Epoch 96: val_accuracy did not improve from 0.85340\n",
      "351/351 - 22s - loss: 0.6864 - accuracy: 0.8137 - val_loss: 0.6004 - val_accuracy: 0.8472 - 22s/epoch - 64ms/step\n",
      "Epoch 97/120\n",
      "\n",
      "Epoch 97: val_accuracy did not improve from 0.85340\n",
      "351/351 - 22s - loss: 0.6904 - accuracy: 0.8123 - val_loss: 0.6159 - val_accuracy: 0.8438 - 22s/epoch - 64ms/step\n",
      "Epoch 98/120\n",
      "\n",
      "Epoch 98: val_accuracy did not improve from 0.85340\n",
      "351/351 - 22s - loss: 0.6877 - accuracy: 0.8113 - val_loss: 0.6474 - val_accuracy: 0.8412 - 22s/epoch - 63ms/step\n",
      "Epoch 99/120\n",
      "\n",
      "Epoch 99: val_accuracy did not improve from 0.85340\n",
      "351/351 - 22s - loss: 0.6880 - accuracy: 0.8148 - val_loss: 0.6461 - val_accuracy: 0.8366 - 22s/epoch - 63ms/step\n",
      "Epoch 100/120\n",
      "\n",
      "Epoch 100: val_accuracy did not improve from 0.85340\n",
      "351/351 - 23s - loss: 0.6867 - accuracy: 0.8136 - val_loss: 0.6048 - val_accuracy: 0.8456 - 23s/epoch - 64ms/step\n",
      "Epoch 101/120\n",
      "\n",
      "Epoch 101: val_accuracy did not improve from 0.85340\n",
      "351/351 - 23s - loss: 0.6873 - accuracy: 0.8141 - val_loss: 0.5966 - val_accuracy: 0.8480 - 23s/epoch - 64ms/step\n",
      "Epoch 102/120\n",
      "\n",
      "Epoch 102: val_accuracy did not improve from 0.85340\n",
      "351/351 - 23s - loss: 0.6840 - accuracy: 0.8136 - val_loss: 0.6095 - val_accuracy: 0.8496 - 23s/epoch - 67ms/step\n",
      "Epoch 103/120\n",
      "\n",
      "Epoch 103: val_accuracy did not improve from 0.85340\n",
      "351/351 - 23s - loss: 0.6877 - accuracy: 0.8136 - val_loss: 0.6343 - val_accuracy: 0.8422 - 23s/epoch - 66ms/step\n",
      "Epoch 104/120\n",
      "\n",
      "Epoch 104: val_accuracy did not improve from 0.85340\n",
      "351/351 - 23s - loss: 0.6870 - accuracy: 0.8151 - val_loss: 0.5900 - val_accuracy: 0.8524 - 23s/epoch - 66ms/step\n",
      "Epoch 105/120\n",
      "\n",
      "Epoch 105: val_accuracy did not improve from 0.85340\n",
      "351/351 - 23s - loss: 0.6844 - accuracy: 0.8134 - val_loss: 0.6272 - val_accuracy: 0.8422 - 23s/epoch - 66ms/step\n",
      "Epoch 106/120\n",
      "\n",
      "Epoch 106: val_accuracy did not improve from 0.85340\n",
      "351/351 - 22s - loss: 0.6894 - accuracy: 0.8119 - val_loss: 0.6106 - val_accuracy: 0.8444 - 22s/epoch - 63ms/step\n",
      "Epoch 107/120\n",
      "\n",
      "Epoch 107: val_accuracy did not improve from 0.85340\n",
      "351/351 - 23s - loss: 0.6818 - accuracy: 0.8158 - val_loss: 0.5998 - val_accuracy: 0.8524 - 23s/epoch - 65ms/step\n",
      "Epoch 108/120\n",
      "\n",
      "Epoch 108: val_accuracy did not improve from 0.85340\n",
      "351/351 - 23s - loss: 0.6882 - accuracy: 0.8133 - val_loss: 0.5954 - val_accuracy: 0.8504 - 23s/epoch - 67ms/step\n",
      "Epoch 109/120\n",
      "\n",
      "Epoch 109: val_accuracy did not improve from 0.85340\n",
      "351/351 - 23s - loss: 0.6894 - accuracy: 0.8140 - val_loss: 0.5903 - val_accuracy: 0.8520 - 23s/epoch - 65ms/step\n",
      "Epoch 110/120\n",
      "\n",
      "Epoch 110: val_accuracy did not improve from 0.85340\n",
      "351/351 - 23s - loss: 0.6848 - accuracy: 0.8130 - val_loss: 0.6111 - val_accuracy: 0.8516 - 23s/epoch - 64ms/step\n",
      "Epoch 111/120\n",
      "\n",
      "Epoch 111: val_accuracy did not improve from 0.85340\n",
      "351/351 - 23s - loss: 0.6835 - accuracy: 0.8157 - val_loss: 0.5986 - val_accuracy: 0.8478 - 23s/epoch - 67ms/step\n",
      "Epoch 112/120\n",
      "\n",
      "Epoch 112: val_accuracy did not improve from 0.85340\n",
      "351/351 - 23s - loss: 0.6827 - accuracy: 0.8152 - val_loss: 0.6668 - val_accuracy: 0.8324 - 23s/epoch - 66ms/step\n",
      "Epoch 113/120\n",
      "\n",
      "Epoch 113: val_accuracy did not improve from 0.85340\n",
      "351/351 - 23s - loss: 0.6818 - accuracy: 0.8170 - val_loss: 0.6259 - val_accuracy: 0.8412 - 23s/epoch - 67ms/step\n",
      "Epoch 114/120\n",
      "\n",
      "Epoch 114: val_accuracy did not improve from 0.85340\n",
      "351/351 - 23s - loss: 0.6815 - accuracy: 0.8154 - val_loss: 0.6562 - val_accuracy: 0.8354 - 23s/epoch - 67ms/step\n",
      "Epoch 115/120\n",
      "\n",
      "Epoch 115: val_accuracy did not improve from 0.85340\n",
      "351/351 - 24s - loss: 0.6838 - accuracy: 0.8152 - val_loss: 0.6126 - val_accuracy: 0.8472 - 24s/epoch - 68ms/step\n",
      "Epoch 116/120\n",
      "\n",
      "Epoch 116: val_accuracy did not improve from 0.85340\n",
      "351/351 - 24s - loss: 0.6797 - accuracy: 0.8158 - val_loss: 0.6679 - val_accuracy: 0.8408 - 24s/epoch - 67ms/step\n",
      "Epoch 117/120\n",
      "\n",
      "Epoch 117: val_accuracy did not improve from 0.85340\n",
      "351/351 - 24s - loss: 0.6837 - accuracy: 0.8162 - val_loss: 0.7009 - val_accuracy: 0.8200 - 24s/epoch - 67ms/step\n",
      "Epoch 118/120\n",
      "\n",
      "Epoch 118: val_accuracy did not improve from 0.85340\n",
      "351/351 - 23s - loss: 0.6828 - accuracy: 0.8167 - val_loss: 0.6649 - val_accuracy: 0.8274 - 23s/epoch - 67ms/step\n",
      "Epoch 119/120\n",
      "\n",
      "Epoch 119: val_accuracy did not improve from 0.85340\n",
      "351/351 - 23s - loss: 0.6829 - accuracy: 0.8151 - val_loss: 0.6406 - val_accuracy: 0.8378 - 23s/epoch - 66ms/step\n",
      "Epoch 120/120\n",
      "\n",
      "Epoch 120: val_accuracy improved from 0.85340 to 0.85400, saving model to my_best_model.hdf5\n",
      "351/351 - 23s - loss: 0.6799 - accuracy: 0.8187 - val_loss: 0.5855 - val_accuracy: 0.8540 - 23s/epoch - 66ms/step\n"
     ]
    }
   ],
   "source": [
    "hist = model.fit(datagen.flow(x_train, y_train, batch_size=128),\n",
    "          callbacks=[checkpoint],\n",
    "          steps_per_epoch=x_train.shape[0] // 128, \n",
    "          epochs=120,\n",
    "          verbose=2,\n",
    "          validation_data=(x_valid, y_valid)\n",
    "         )"
   ]
  },
  {
   "cell_type": "markdown",
   "id": "9f04f15b",
   "metadata": {
    "papermill": {
     "duration": 0.045274,
     "end_time": "2023-03-16T01:18:43.024138",
     "exception": false,
     "start_time": "2023-03-16T01:18:42.978864",
     "status": "completed"
    },
    "tags": []
   },
   "source": [
    "# **Outcome Visualization**"
   ]
  },
  {
   "cell_type": "code",
   "execution_count": 20,
   "id": "96be005a",
   "metadata": {
    "execution": {
     "iopub.execute_input": "2023-03-16T01:18:43.116507Z",
     "iopub.status.busy": "2023-03-16T01:18:43.115554Z",
     "iopub.status.idle": "2023-03-16T01:18:43.344654Z",
     "shell.execute_reply": "2023-03-16T01:18:43.343728Z"
    },
    "papermill": {
     "duration": 0.277698,
     "end_time": "2023-03-16T01:18:43.346870",
     "exception": false,
     "start_time": "2023-03-16T01:18:43.069172",
     "status": "completed"
    },
    "tags": []
   },
   "outputs": [
    {
     "data": {
      "image/png": "[encoded data removed]",
      "text/plain": [
       "<Figure size 640x480 with 1 Axes>"
      ]
     },
     "metadata": {},
     "output_type": "display_data"
    }
   ],
   "source": [
    "# Training Accuracy\n",
    "plt.plot(hist.history['accuracy'],label='Train')\n",
    "# Validation Accuracy\n",
    "plt.plot(hist.history['val_accuracy'],label='Val')\n",
    "# Title\n",
    "plt.title('Cifer Results')\n",
    "# Visualization Legend\n",
    "plt.legend()\n",
    "plt.show()"
   ]
  },
  {
   "cell_type": "markdown",
   "id": "ab0221d2",
   "metadata": {
    "papermill": {
     "duration": 0.046156,
     "end_time": "2023-03-16T01:18:43.439263",
     "exception": false,
     "start_time": "2023-03-16T01:18:43.393107",
     "status": "completed"
    },
    "tags": []
   },
   "source": [
    "### Model Evaluation"
   ]
  },
  {
   "cell_type": "code",
   "execution_count": 21,
   "id": "dfecd7ff",
   "metadata": {
    "execution": {
     "iopub.execute_input": "2023-03-16T01:18:43.531550Z",
     "iopub.status.busy": "2023-03-16T01:18:43.531224Z",
     "iopub.status.idle": "2023-03-16T01:18:45.209390Z",
     "shell.execute_reply": "2023-03-16T01:18:45.208449Z"
    },
    "papermill": {
     "duration": 1.726687,
     "end_time": "2023-03-16T01:18:45.211543",
     "exception": false,
     "start_time": "2023-03-16T01:18:43.484856",
     "status": "completed"
    },
    "tags": []
   },
   "outputs": [
    {
     "name": "stdout",
     "output_type": "stream",
     "text": [
      "313/313 [==============================] - 1s 4ms/step - loss: 0.6432 - accuracy: 0.8357\n"
     ]
    },
    {
     "data": {
      "text/plain": [
       "[0.6432059407234192, 0.8356999754905701]"
      ]
     },
     "execution_count": 21,
     "metadata": {},
     "output_type": "execute_result"
    }
   ],
   "source": [
    "# Let's storage it in a new variable in order to avoid conflicts\n",
    "model.evaluate(x_test, y_test)"
   ]
  },
  {
   "cell_type": "markdown",
   "id": "5206b680",
   "metadata": {
    "papermill": {
     "duration": 0.046845,
     "end_time": "2023-03-16T01:18:45.306287",
     "exception": false,
     "start_time": "2023-03-16T01:18:45.259442",
     "status": "completed"
    },
    "tags": []
   },
   "source": [
    "### Results\n",
    "\n",
    "The Validation model has performed way better than the training one and obtained an accuracy of 83.29 %"
   ]
  },
  {
   "cell_type": "code",
   "execution_count": null,
   "id": "73a1d5fb",
   "metadata": {
    "papermill": {
     "duration": 0.046462,
     "end_time": "2023-03-16T01:18:45.399580",
     "exception": false,
     "start_time": "2023-03-16T01:18:45.353118",
     "status": "completed"
    },
    "tags": []
   },
   "outputs": [],
   "source": [
    "\n"
   ]
  }
 ],
 "metadata": {
  "kernelspec": {
   "display_name": "Python 3",
   "language": "python",
   "name": "python3"
  },
  "language_info": {
   "codemirror_mode": {
    "name": "ipython",
    "version": 3
   },
   "file_extension": ".py",
   "mimetype": "text/x-python",
   "name": "python",
   "nbconvert_exporter": "python",
   "pygments_lexer": "ipython3",
   "version": "3.7.12"
  },
  "papermill": {
   "default_parameters": {},
   "duration": 5105.400034,
   "end_time": "2023-03-16T01:18:48.431239",
   "environment_variables": {},
   "exception": null,
   "input_path": "__notebook__.ipynb",
   "output_path": "__notebook__.ipynb",
   "parameters": {},
   "start_time": "2023-03-15T23:53:43.031205",
   "version": "2.4.0"
  }
 },
 "nbformat": 4,
 "nbformat_minor": 5
}
