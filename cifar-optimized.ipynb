{
 "cells": [
  {
   "cell_type": "markdown",
   "id": "b0200a95",
   "metadata": {
    "papermill": {
     "duration": 0.008084,
     "end_time": "2023-03-16T20:25:43.922858",
     "exception": false,
     "start_time": "2023-03-16T20:25:43.914774",
     "status": "completed"
    },
    "tags": []
   },
   "source": [
    "# Cifar classification Optimized\n",
    "\n",
    "##### CNN classification\n",
    "\n",
    "* The CIFAR-10 dataset consists of 60000 32x32 colour images in 10 classes, with 6000 images per class. There are 50000 training images and 10000 test images.\n",
    "* This dataset was retirved from: [\"https://www.tensorflow.org/datasets/catalog/cifar10\"]"
   ]
  },
  {
   "cell_type": "markdown",
   "id": "1da7821b",
   "metadata": {
    "papermill": {
     "duration": 0.006544,
     "end_time": "2023-03-16T20:25:43.936440",
     "exception": false,
     "start_time": "2023-03-16T20:25:43.929896",
     "status": "completed"
    },
    "tags": []
   },
   "source": [
    "### Import Packages"
   ]
  },
  {
   "cell_type": "code",
   "execution_count": 1,
   "id": "2639be88",
   "metadata": {
    "_cell_guid": "b1076dfc-b9ad-4769-8c92-a6c4dae69d19",
    "_uuid": "8f2839f25d086af736a60e9eeb907d3b93b6e0e5",
    "execution": {
     "iopub.execute_input": "2023-03-16T20:25:43.951726Z",
     "iopub.status.busy": "2023-03-16T20:25:43.951248Z",
     "iopub.status.idle": "2023-03-16T20:25:43.962301Z",
     "shell.execute_reply": "2023-03-16T20:25:43.961414Z"
    },
    "papermill": {
     "duration": 0.021351,
     "end_time": "2023-03-16T20:25:43.964659",
     "exception": false,
     "start_time": "2023-03-16T20:25:43.943308",
     "status": "completed"
    },
    "tags": []
   },
   "outputs": [],
   "source": [
    "# Linear Algebra\n",
    "import numpy as np # \n",
    "# Data Processing\n",
    "import pandas as pd \n",
    "# Data Visualization\n",
    "import matplotlib.pyplot as plt"
   ]
  },
  {
   "cell_type": "markdown",
   "id": "ee10b488",
   "metadata": {
    "papermill": {
     "duration": 0.0068,
     "end_time": "2023-03-16T20:25:43.978284",
     "exception": false,
     "start_time": "2023-03-16T20:25:43.971484",
     "status": "completed"
    },
    "tags": []
   },
   "source": [
    "### Convolutional Packages"
   ]
  },
  {
   "cell_type": "code",
   "execution_count": 2,
   "id": "9d2f03c6",
   "metadata": {
    "execution": {
     "iopub.execute_input": "2023-03-16T20:25:43.993660Z",
     "iopub.status.busy": "2023-03-16T20:25:43.993391Z",
     "iopub.status.idle": "2023-03-16T20:25:51.889032Z",
     "shell.execute_reply": "2023-03-16T20:25:51.887916Z"
    },
    "papermill": {
     "duration": 7.906345,
     "end_time": "2023-03-16T20:25:51.891961",
     "exception": false,
     "start_time": "2023-03-16T20:25:43.985616",
     "status": "completed"
    },
    "tags": []
   },
   "outputs": [],
   "source": [
    "# Keras API\n",
    "from tensorflow import keras\n",
    "# Utils for categorical values\n",
    "from tensorflow.keras.utils import to_categorical\n",
    "# Regularizers\n",
    "from tensorflow.keras import regularizers\n",
    "# Sequentials\n",
    "from tensorflow.keras.models import Sequential\n",
    "# Model Layers\n",
    "from tensorflow.keras.layers import Conv2D,MaxPooling2D, Flatten, Dense, Dropout, Activation, BatchNormalization\n",
    "# Dataset\n",
    "from tensorflow.keras.datasets import cifar10\n",
    "# Image Generators\n",
    "from tensorflow.keras.preprocessing.image import ImageDataGenerator\n",
    "# \n",
    "from tensorflow.keras.callbacks import ModelCheckpoint"
   ]
  },
  {
   "cell_type": "markdown",
   "id": "31c8a9ae",
   "metadata": {
    "papermill": {
     "duration": 0.006737,
     "end_time": "2023-03-16T20:25:51.906042",
     "exception": false,
     "start_time": "2023-03-16T20:25:51.899305",
     "status": "completed"
    },
    "tags": []
   },
   "source": [
    "### Loading Dataset"
   ]
  },
  {
   "cell_type": "code",
   "execution_count": 3,
   "id": "45e434a3",
   "metadata": {
    "execution": {
     "iopub.execute_input": "2023-03-16T20:25:51.921466Z",
     "iopub.status.busy": "2023-03-16T20:25:51.920819Z",
     "iopub.status.idle": "2023-03-16T20:25:57.910273Z",
     "shell.execute_reply": "2023-03-16T20:25:57.909213Z"
    },
    "papermill": {
     "duration": 6.000174,
     "end_time": "2023-03-16T20:25:57.913082",
     "exception": false,
     "start_time": "2023-03-16T20:25:51.912908",
     "status": "completed"
    },
    "tags": []
   },
   "outputs": [
    {
     "name": "stdout",
     "output_type": "stream",
     "text": [
      "Downloading data from https://www.cs.toronto.edu/~kriz/cifar-10-python.tar.gz\n",
      "170498071/170498071 [==============================] - 3s 0us/step\n"
     ]
    }
   ],
   "source": [
    "(x_train, y_train), (x_test, y_test) = cifar10.load_data()"
   ]
  },
  {
   "cell_type": "markdown",
   "id": "fb48ca8c",
   "metadata": {
    "papermill": {
     "duration": 0.010682,
     "end_time": "2023-03-16T20:25:57.934639",
     "exception": false,
     "start_time": "2023-03-16T20:25:57.923957",
     "status": "completed"
    },
    "tags": []
   },
   "source": [
    "### Getting Shape"
   ]
  },
  {
   "cell_type": "code",
   "execution_count": 4,
   "id": "e6abb768",
   "metadata": {
    "execution": {
     "iopub.execute_input": "2023-03-16T20:25:57.958024Z",
     "iopub.status.busy": "2023-03-16T20:25:57.957523Z",
     "iopub.status.idle": "2023-03-16T20:25:57.964619Z",
     "shell.execute_reply": "2023-03-16T20:25:57.963479Z"
    },
    "papermill": {
     "duration": 0.020758,
     "end_time": "2023-03-16T20:25:57.966785",
     "exception": false,
     "start_time": "2023-03-16T20:25:57.946027",
     "status": "completed"
    },
    "tags": []
   },
   "outputs": [
    {
     "data": {
      "text/plain": [
       "(50000, 32, 32, 3)"
      ]
     },
     "execution_count": 4,
     "metadata": {},
     "output_type": "execute_result"
    }
   ],
   "source": [
    "x_train.shape"
   ]
  },
  {
   "cell_type": "code",
   "execution_count": 5,
   "id": "4474fb53",
   "metadata": {
    "execution": {
     "iopub.execute_input": "2023-03-16T20:25:57.989330Z",
     "iopub.status.busy": "2023-03-16T20:25:57.988516Z",
     "iopub.status.idle": "2023-03-16T20:25:58.196514Z",
     "shell.execute_reply": "2023-03-16T20:25:58.195527Z"
    },
    "papermill": {
     "duration": 0.221388,
     "end_time": "2023-03-16T20:25:58.198648",
     "exception": false,
     "start_time": "2023-03-16T20:25:57.977260",
     "status": "completed"
    },
    "tags": []
   },
   "outputs": [
    {
     "data": {
      "image/png": "[encoded data removed]",
      "text/plain": [
       "<Figure size 640x480 with 1 Axes>"
      ]
     },
     "metadata": {},
     "output_type": "display_data"
    }
   ],
   "source": [
    "plt.imshow(x_train[7])\n",
    "plt.show()"
   ]
  },
  {
   "cell_type": "markdown",
   "id": "8921211d",
   "metadata": {
    "papermill": {
     "duration": 0.010528,
     "end_time": "2023-03-16T20:25:58.219913",
     "exception": false,
     "start_time": "2023-03-16T20:25:58.209385",
     "status": "completed"
    },
    "tags": []
   },
   "source": [
    "### Data Cleaning"
   ]
  },
  {
   "cell_type": "code",
   "execution_count": 6,
   "id": "e0bf7dd1",
   "metadata": {
    "execution": {
     "iopub.execute_input": "2023-03-16T20:25:58.243207Z",
     "iopub.status.busy": "2023-03-16T20:25:58.242362Z",
     "iopub.status.idle": "2023-03-16T20:25:58.423746Z",
     "shell.execute_reply": "2023-03-16T20:25:58.422678Z"
    },
    "papermill": {
     "duration": 0.196003,
     "end_time": "2023-03-16T20:25:58.426501",
     "exception": false,
     "start_time": "2023-03-16T20:25:58.230498",
     "status": "completed"
    },
    "tags": []
   },
   "outputs": [],
   "source": [
    "# Let's apply Dimensionality Reduction\n",
    "x_train = x_train.astype('float32')\n",
    "x_test = x_test.astype('float32')"
   ]
  },
  {
   "cell_type": "code",
   "execution_count": 7,
   "id": "0944cf7a",
   "metadata": {
    "execution": {
     "iopub.execute_input": "2023-03-16T20:25:58.450686Z",
     "iopub.status.busy": "2023-03-16T20:25:58.450374Z",
     "iopub.status.idle": "2023-03-16T20:25:58.458919Z",
     "shell.execute_reply": "2023-03-16T20:25:58.458020Z"
    },
    "papermill": {
     "duration": 0.023592,
     "end_time": "2023-03-16T20:25:58.461152",
     "exception": false,
     "start_time": "2023-03-16T20:25:58.437560",
     "status": "completed"
    },
    "tags": []
   },
   "outputs": [],
   "source": [
    "# Now! Let's move on Label's Restructuring\n",
    "\n",
    "# Matrix Lengths with 10 possible unique values\n",
    "num_clases = len(np.unique(y_train))\n",
    "# Let's switch them into binary values\n",
    "y_train = to_categorical(y_train, num_clases)\n",
    "y_test = to_categorical(y_test, num_clases)"
   ]
  },
  {
   "cell_type": "markdown",
   "id": "b928ec11",
   "metadata": {
    "papermill": {
     "duration": 0.010378,
     "end_time": "2023-03-16T20:25:58.482456",
     "exception": false,
     "start_time": "2023-03-16T20:25:58.472078",
     "status": "completed"
    },
    "tags": []
   },
   "source": [
    "### Outcome Checkpoint:"
   ]
  },
  {
   "cell_type": "code",
   "execution_count": 8,
   "id": "d5bcc431",
   "metadata": {
    "execution": {
     "iopub.execute_input": "2023-03-16T20:25:58.505295Z",
     "iopub.status.busy": "2023-03-16T20:25:58.504612Z",
     "iopub.status.idle": "2023-03-16T20:25:58.511291Z",
     "shell.execute_reply": "2023-03-16T20:25:58.510295Z"
    },
    "papermill": {
     "duration": 0.020307,
     "end_time": "2023-03-16T20:25:58.513483",
     "exception": false,
     "start_time": "2023-03-16T20:25:58.493176",
     "status": "completed"
    },
    "tags": []
   },
   "outputs": [
    {
     "data": {
      "text/plain": [
       "array([0., 0., 0., 0., 0., 0., 1., 0., 0., 0.], dtype=float32)"
      ]
     },
     "execution_count": 8,
     "metadata": {},
     "output_type": "execute_result"
    }
   ],
   "source": [
    "y_train[0]"
   ]
  },
  {
   "cell_type": "markdown",
   "id": "8dc8ffb4",
   "metadata": {
    "papermill": {
     "duration": 0.010541,
     "end_time": "2023-03-16T20:25:58.534873",
     "exception": false,
     "start_time": "2023-03-16T20:25:58.524332",
     "status": "completed"
    },
    "tags": []
   },
   "source": [
    "### Normalization Procedure"
   ]
  },
  {
   "cell_type": "code",
   "execution_count": 9,
   "id": "45cb70e6",
   "metadata": {
    "execution": {
     "iopub.execute_input": "2023-03-16T20:25:58.557964Z",
     "iopub.status.busy": "2023-03-16T20:25:58.557074Z",
     "iopub.status.idle": "2023-03-16T20:25:58.947256Z",
     "shell.execute_reply": "2023-03-16T20:25:58.946134Z"
    },
    "papermill": {
     "duration": 0.404341,
     "end_time": "2023-03-16T20:25:58.949951",
     "exception": false,
     "start_time": "2023-03-16T20:25:58.545610",
     "status": "completed"
    },
    "tags": []
   },
   "outputs": [],
   "source": [
    "mean = np.mean(x_train)\n",
    "std = np.std(x_train)"
   ]
  },
  {
   "cell_type": "code",
   "execution_count": 10,
   "id": "2c44a19c",
   "metadata": {
    "execution": {
     "iopub.execute_input": "2023-03-16T20:25:58.973438Z",
     "iopub.status.busy": "2023-03-16T20:25:58.973088Z",
     "iopub.status.idle": "2023-03-16T20:25:59.257694Z",
     "shell.execute_reply": "2023-03-16T20:25:59.256640Z"
    },
    "papermill": {
     "duration": 0.298958,
     "end_time": "2023-03-16T20:25:59.260245",
     "exception": false,
     "start_time": "2023-03-16T20:25:58.961287",
     "status": "completed"
    },
    "tags": []
   },
   "outputs": [],
   "source": [
    "x_train = (x_train - mean) / (std+1e-7)\n",
    "x_test = (x_test - mean) / (std+1e-7)"
   ]
  },
  {
   "cell_type": "markdown",
   "id": "ce2c3a5c",
   "metadata": {
    "papermill": {
     "duration": 0.010804,
     "end_time": "2023-03-16T20:25:59.282084",
     "exception": false,
     "start_time": "2023-03-16T20:25:59.271280",
     "status": "completed"
    },
    "tags": []
   },
   "source": [
    "### Building Dataset"
   ]
  },
  {
   "cell_type": "code",
   "execution_count": 11,
   "id": "aac6f7ee",
   "metadata": {
    "execution": {
     "iopub.execute_input": "2023-03-16T20:25:59.305539Z",
     "iopub.status.busy": "2023-03-16T20:25:59.304612Z",
     "iopub.status.idle": "2023-03-16T20:25:59.312371Z",
     "shell.execute_reply": "2023-03-16T20:25:59.310893Z"
    },
    "papermill": {
     "duration": 0.021575,
     "end_time": "2023-03-16T20:25:59.314441",
     "exception": false,
     "start_time": "2023-03-16T20:25:59.292866",
     "status": "completed"
    },
    "tags": []
   },
   "outputs": [
    {
     "name": "stdout",
     "output_type": "stream",
     "text": [
      "x_train shape (45000, 32, 32, 3)\n",
      "train; 45000\n",
      "val; 5000\n",
      "test; 10000\n"
     ]
    }
   ],
   "source": [
    "# Traning & Validating Datasets Segmentation for x\n",
    "(x_train, x_valid) = x_train[5000:], x_train[:5000]\n",
    "# Traning & Validating Datasets for\n",
    "(y_train, y_valid) = y_train[5000:], y_train[:5000]\n",
    "\n",
    "# Let check x_train shape\n",
    "print('x_train shape', x_train.shape)\n",
    "\n",
    "# Lets extend it amog the rest of attributes\n",
    "print('train;', x_train.shape[0])\n",
    "# x_valid\n",
    "print('val;', x_valid.shape[0])\n",
    "# x_test\n",
    "print('test;', x_test.shape[0])"
   ]
  },
  {
   "cell_type": "markdown",
   "id": "56a2050d",
   "metadata": {
    "papermill": {
     "duration": 0.010519,
     "end_time": "2023-03-16T20:25:59.335711",
     "exception": false,
     "start_time": "2023-03-16T20:25:59.325192",
     "status": "completed"
    },
    "tags": []
   },
   "source": [
    "### Building Model"
   ]
  },
  {
   "cell_type": "code",
   "execution_count": 12,
   "id": "6a15c158",
   "metadata": {
    "execution": {
     "iopub.execute_input": "2023-03-16T20:25:59.358769Z",
     "iopub.status.busy": "2023-03-16T20:25:59.357980Z",
     "iopub.status.idle": "2023-03-16T20:25:59.362457Z",
     "shell.execute_reply": "2023-03-16T20:25:59.361426Z"
    },
    "papermill": {
     "duration": 0.018182,
     "end_time": "2023-03-16T20:25:59.364604",
     "exception": false,
     "start_time": "2023-03-16T20:25:59.346422",
     "status": "completed"
    },
    "tags": []
   },
   "outputs": [],
   "source": [
    "# let's set a filter base\n",
    "filter_base = 32\n",
    "# let's add a weight on regularizer\n",
    "w_regulatizer = 1e-4"
   ]
  },
  {
   "cell_type": "markdown",
   "id": "8e8c61d6",
   "metadata": {
    "papermill": {
     "duration": 0.010466,
     "end_time": "2023-03-16T20:25:59.385754",
     "exception": false,
     "start_time": "2023-03-16T20:25:59.375288",
     "status": "completed"
    },
    "tags": []
   },
   "source": [
    "### Setting The Model Up"
   ]
  },
  {
   "cell_type": "code",
   "execution_count": 13,
   "id": "8947e5ee",
   "metadata": {
    "execution": {
     "iopub.execute_input": "2023-03-16T20:25:59.408819Z",
     "iopub.status.busy": "2023-03-16T20:25:59.408548Z",
     "iopub.status.idle": "2023-03-16T20:26:02.844129Z",
     "shell.execute_reply": "2023-03-16T20:26:02.842652Z"
    },
    "papermill": {
     "duration": 3.50491,
     "end_time": "2023-03-16T20:26:02.901356",
     "exception": false,
     "start_time": "2023-03-16T20:25:59.396446",
     "status": "completed"
    },
    "tags": []
   },
   "outputs": [
    {
     "name": "stdout",
     "output_type": "stream",
     "text": [
      "Model: \"sequential\"\n",
      "_________________________________________________________________\n",
      " Layer (type)                Output Shape              Param #   \n",
      "=================================================================\n",
      " conv2d (Conv2D)             (None, 32, 32, 32)        896       \n",
      "                                                                 \n",
      " activation (Activation)     (None, 32, 32, 32)        0         \n",
      "                                                                 \n",
      " batch_normalization (BatchN  (None, 32, 32, 32)       128       \n",
      " ormalization)                                                   \n",
      "                                                                 \n",
      " conv2d_1 (Conv2D)           (None, 32, 32, 32)        9248      \n",
      "                                                                 \n",
      " activation_1 (Activation)   (None, 32, 32, 32)        0         \n",
      "                                                                 \n",
      " batch_normalization_1 (Batc  (None, 32, 32, 32)       128       \n",
      " hNormalization)                                                 \n",
      "                                                                 \n",
      " max_pooling2d (MaxPooling2D  (None, 16, 16, 32)       0         \n",
      " )                                                               \n",
      "                                                                 \n",
      " dropout (Dropout)           (None, 16, 16, 32)        0         \n",
      "                                                                 \n",
      " conv2d_2 (Conv2D)           (None, 16, 16, 64)        18496     \n",
      "                                                                 \n",
      " activation_2 (Activation)   (None, 16, 16, 64)        0         \n",
      "                                                                 \n",
      " batch_normalization_2 (Batc  (None, 16, 16, 64)       256       \n",
      " hNormalization)                                                 \n",
      "                                                                 \n",
      " max_pooling2d_1 (MaxPooling  (None, 8, 8, 64)         0         \n",
      " 2D)                                                             \n",
      "                                                                 \n",
      " dropout_1 (Dropout)         (None, 8, 8, 64)          0         \n",
      "                                                                 \n",
      " conv2d_3 (Conv2D)           (None, 8, 8, 64)          36928     \n",
      "                                                                 \n",
      " activation_3 (Activation)   (None, 8, 8, 64)          0         \n",
      "                                                                 \n",
      " batch_normalization_3 (Batc  (None, 8, 8, 64)         256       \n",
      " hNormalization)                                                 \n",
      "                                                                 \n",
      " max_pooling2d_2 (MaxPooling  (None, 4, 4, 64)         0         \n",
      " 2D)                                                             \n",
      "                                                                 \n",
      " dropout_2 (Dropout)         (None, 4, 4, 64)          0         \n",
      "                                                                 \n",
      " conv2d_4 (Conv2D)           (None, 4, 4, 128)         73856     \n",
      "                                                                 \n",
      " activation_4 (Activation)   (None, 4, 4, 128)         0         \n",
      "                                                                 \n",
      " batch_normalization_4 (Batc  (None, 4, 4, 128)        512       \n",
      " hNormalization)                                                 \n",
      "                                                                 \n",
      " conv2d_5 (Conv2D)           (None, 4, 4, 128)         147584    \n",
      "                                                                 \n",
      " activation_5 (Activation)   (None, 4, 4, 128)         0         \n",
      "                                                                 \n",
      " batch_normalization_5 (Batc  (None, 4, 4, 128)        512       \n",
      " hNormalization)                                                 \n",
      "                                                                 \n",
      " max_pooling2d_3 (MaxPooling  (None, 2, 2, 128)        0         \n",
      " 2D)                                                             \n",
      "                                                                 \n",
      " dropout_3 (Dropout)         (None, 2, 2, 128)         0         \n",
      "                                                                 \n",
      " flatten (Flatten)           (None, 512)               0         \n",
      "                                                                 \n",
      " dense (Dense)               (None, 10)                5130      \n",
      "                                                                 \n",
      "=================================================================\n",
      "Total params: 293,930\n",
      "Trainable params: 293,034\n",
      "Non-trainable params: 896\n",
      "_________________________________________________________________\n"
     ]
    }
   ],
   "source": [
    "# Invoke Model Type\n",
    "model = Sequential()\n",
    "\n",
    "# 1st Convolution\n",
    "model.add(Conv2D(filter_base, (3,3), padding='same', kernel_regularizer=regularizers.l2(w_regulatizer), input_shape=x_train.shape[1:]))\n",
    "# Activation layer\n",
    "model.add(Activation('relu'))\n",
    "# Batch Normalization\n",
    "model.add(BatchNormalization())\n",
    "\n",
    "\n",
    "# 2nd Convolution\n",
    "model.add(Conv2D(filter_base, (3,3), padding='same', kernel_regularizer=regularizers.l2(w_regulatizer)))\n",
    "# Activation layer\n",
    "model.add(Activation('relu'))\n",
    "# Batch Normalization\n",
    "model.add(BatchNormalization())\n",
    "# Complexity Reduction\n",
    "model.add(MaxPooling2D(pool_size=(2,2)))\n",
    "# Ovewrfitting 20%\n",
    "model.add(Dropout(0.2))\n",
    "\n",
    "# In this case let's perform a deeper network\n",
    "\n",
    "\n",
    "# 3rd Convolution\n",
    "model.add(Conv2D(2*filter_base, (3,3), padding='same', kernel_regularizer=regularizers.l2(w_regulatizer)))\n",
    "# Activation layer\n",
    "model.add(Activation('relu'))\n",
    "# Batch Normalization\n",
    "model.add(BatchNormalization())\n",
    "# Complexity Reduction\n",
    "model.add(MaxPooling2D(pool_size=(2,2)))\n",
    "# Ovewrfitting 20%\n",
    "model.add(Dropout(0.2))\n",
    "\n",
    "\n",
    "## 4th convlotuion\n",
    "model.add(Conv2D(2*filter_base, (3,3), padding='same', kernel_regularizer=regularizers.l2(w_regulatizer)))\n",
    "# Activation layer\n",
    "model.add(Activation('relu'))\n",
    "# Batch Normalization\n",
    "model.add(BatchNormalization())\n",
    "# Complexity Reduction\n",
    "model.add(MaxPooling2D(pool_size=(2,2)))\n",
    "# Ovewrfitting 30%\n",
    "model.add(Dropout(0.3))\n",
    "\n",
    "\n",
    "# 5th Convolution\n",
    "model.add(Conv2D(4*filter_base, (3,3), padding='same', kernel_regularizer=regularizers.l2(w_regulatizer)))\n",
    "# Activation Layer\n",
    "model.add(Activation('relu'))\n",
    "# Batch Normalization\n",
    "model.add(BatchNormalization())\n",
    "\n",
    "\n",
    "# 6th Convolution\n",
    "model.add(Conv2D(4*filter_base, (3,3), padding='same', kernel_regularizer=regularizers.l2(w_regulatizer)))\n",
    "# Activation Layer\n",
    "model.add(Activation('relu'))\n",
    "# Batch Normalization\n",
    "model.add(BatchNormalization())\n",
    "# Complexity Reduction\n",
    "model.add(MaxPooling2D(pool_size=(2,2)))\n",
    "# overfitting 40%\n",
    "model.add(Dropout(0.4))\n",
    "\n",
    "\n",
    "# Flatten Classifier\n",
    "\n",
    "# One Dimension Flatten Layer\n",
    "model.add(Flatten())\n",
    "# Dense Layer\n",
    "model.add(Dense(num_clases,activation='softmax'))\n",
    "\n",
    "# Summary\n",
    "model.summary()"
   ]
  },
  {
   "cell_type": "markdown",
   "id": "b1147bf5",
   "metadata": {
    "papermill": {
     "duration": 0.01589,
     "end_time": "2023-03-16T20:26:02.932906",
     "exception": false,
     "start_time": "2023-03-16T20:26:02.917016",
     "status": "completed"
    },
    "tags": []
   },
   "source": [
    "### Data Augmentation"
   ]
  },
  {
   "cell_type": "code",
   "execution_count": 14,
   "id": "e024df43",
   "metadata": {
    "execution": {
     "iopub.execute_input": "2023-03-16T20:26:02.964728Z",
     "iopub.status.busy": "2023-03-16T20:26:02.964383Z",
     "iopub.status.idle": "2023-03-16T20:26:02.969420Z",
     "shell.execute_reply": "2023-03-16T20:26:02.968300Z"
    },
    "papermill": {
     "duration": 0.024548,
     "end_time": "2023-03-16T20:26:02.971964",
     "exception": false,
     "start_time": "2023-03-16T20:26:02.947416",
     "status": "completed"
    },
    "tags": []
   },
   "outputs": [],
   "source": [
    "datagen = ImageDataGenerator(rotation_range=15,\n",
    "                             width_shift_range=0.1,\n",
    "                             height_shift_range=0.1,\n",
    "                             horizontal_flip=True,\n",
    "                             vertical_flip=True)"
   ]
  },
  {
   "cell_type": "markdown",
   "id": "3c5cadcd",
   "metadata": {
    "papermill": {
     "duration": 0.016768,
     "end_time": "2023-03-16T20:26:03.013173",
     "exception": false,
     "start_time": "2023-03-16T20:26:02.996405",
     "status": "completed"
    },
    "tags": []
   },
   "source": [
    "### Model Compilation"
   ]
  },
  {
   "cell_type": "code",
   "execution_count": 15,
   "id": "0ae96f2a",
   "metadata": {
    "execution": {
     "iopub.execute_input": "2023-03-16T20:26:03.045343Z",
     "iopub.status.busy": "2023-03-16T20:26:03.045014Z",
     "iopub.status.idle": "2023-03-16T20:26:03.049399Z",
     "shell.execute_reply": "2023-03-16T20:26:03.048382Z"
    },
    "papermill": {
     "duration": 0.023092,
     "end_time": "2023-03-16T20:26:03.051628",
     "exception": false,
     "start_time": "2023-03-16T20:26:03.028536",
     "status": "completed"
    },
    "tags": []
   },
   "outputs": [],
   "source": [
    "# Optimizer Library\n",
    "from tensorflow.keras import optimizers"
   ]
  },
  {
   "cell_type": "code",
   "execution_count": 16,
   "id": "f74979de",
   "metadata": {
    "execution": {
     "iopub.execute_input": "2023-03-16T20:26:03.121580Z",
     "iopub.status.busy": "2023-03-16T20:26:03.121245Z",
     "iopub.status.idle": "2023-03-16T20:26:03.139498Z",
     "shell.execute_reply": "2023-03-16T20:26:03.138399Z"
    },
    "papermill": {
     "duration": 0.073281,
     "end_time": "2023-03-16T20:26:03.141799",
     "exception": false,
     "start_time": "2023-03-16T20:26:03.068518",
     "status": "completed"
    },
    "tags": []
   },
   "outputs": [],
   "source": [
    "# Compiling the model with \n",
    "# Adam optimizer adapts to the \"Net's Momentum\"\n",
    "model.compile(loss='categorical_crossentropy', optimizer=optimizers.Adam(),\n",
    "             metrics=['accuracy'])"
   ]
  },
  {
   "cell_type": "markdown",
   "id": "63ca0e3f",
   "metadata": {
    "papermill": {
     "duration": 0.014686,
     "end_time": "2023-03-16T20:26:03.171247",
     "exception": false,
     "start_time": "2023-03-16T20:26:03.156561",
     "status": "completed"
    },
    "tags": []
   },
   "source": [
    "## Past Fitting Model Adjustment"
   ]
  },
  {
   "cell_type": "code",
   "execution_count": 17,
   "id": "bc071dce",
   "metadata": {
    "execution": {
     "iopub.execute_input": "2023-03-16T20:26:03.202513Z",
     "iopub.status.busy": "2023-03-16T20:26:03.202245Z",
     "iopub.status.idle": "2023-03-16T20:26:03.206279Z",
     "shell.execute_reply": "2023-03-16T20:26:03.205272Z"
    },
    "papermill": {
     "duration": 0.021382,
     "end_time": "2023-03-16T20:26:03.208333",
     "exception": false,
     "start_time": "2023-03-16T20:26:03.186951",
     "status": "completed"
    },
    "tags": []
   },
   "outputs": [],
   "source": [
    "# hist = model.fit(x_train, y_train, batch_size=32,epochs=100,\n",
    "#                validation_data=(x_valid, y_valid),\n",
    "#                verbose=2, shuffle=True)"
   ]
  },
  {
   "cell_type": "markdown",
   "id": "c7e0624b",
   "metadata": {
    "papermill": {
     "duration": 0.014447,
     "end_time": "2023-03-16T20:26:03.237109",
     "exception": false,
     "start_time": "2023-03-16T20:26:03.222662",
     "status": "completed"
    },
    "tags": []
   },
   "source": [
    "### Callbacks"
   ]
  },
  {
   "cell_type": "code",
   "execution_count": 18,
   "id": "d705a9e7",
   "metadata": {
    "execution": {
     "iopub.execute_input": "2023-03-16T20:26:03.267409Z",
     "iopub.status.busy": "2023-03-16T20:26:03.267148Z",
     "iopub.status.idle": "2023-03-16T20:26:03.272185Z",
     "shell.execute_reply": "2023-03-16T20:26:03.271035Z"
    },
    "papermill": {
     "duration": 0.022265,
     "end_time": "2023-03-16T20:26:03.274257",
     "exception": false,
     "start_time": "2023-03-16T20:26:03.251992",
     "status": "completed"
    },
    "tags": []
   },
   "outputs": [],
   "source": [
    "checkpoint = ModelCheckpoint('my_best_model.hdf5',verbose=1,save_best_only=True, monitor = 'val_accuracy')"
   ]
  },
  {
   "cell_type": "markdown",
   "id": "3a242c82",
   "metadata": {
    "papermill": {
     "duration": 0.014129,
     "end_time": "2023-03-16T20:26:03.302591",
     "exception": false,
     "start_time": "2023-03-16T20:26:03.288462",
     "status": "completed"
    },
    "tags": []
   },
   "source": [
    "### Model Training"
   ]
  },
  {
   "cell_type": "code",
   "execution_count": 19,
   "id": "69b1b447",
   "metadata": {
    "execution": {
     "iopub.execute_input": "2023-03-16T20:26:03.333026Z",
     "iopub.status.busy": "2023-03-16T20:26:03.332259Z",
     "iopub.status.idle": "2023-03-16T21:28:38.393554Z",
     "shell.execute_reply": "2023-03-16T21:28:38.392455Z"
    },
    "papermill": {
     "duration": 3755.105083,
     "end_time": "2023-03-16T21:28:38.422169",
     "exception": false,
     "start_time": "2023-03-16T20:26:03.317086",
     "status": "completed"
    },
    "tags": []
   },
   "outputs": [
    {
     "name": "stdout",
     "output_type": "stream",
     "text": [
      "Epoch 1/120\n"
     ]
    },
    {
     "name": "stderr",
     "output_type": "stream",
     "text": [
      "2023-03-16 20:26:05.492706: E tensorflow/core/grappler/optimizers/meta_optimizer.cc:954] layout failed: INVALID_ARGUMENT: Size of values 0 does not match size of permutation 4 @ fanin shape insequential/dropout/dropout/SelectV2-2-TransposeNHWCToNCHW-LayoutOptimizer\n"
     ]
    },
    {
     "name": "stdout",
     "output_type": "stream",
     "text": [
      "\n",
      "Epoch 1: val_accuracy improved from -inf to 0.27120, saving model to my_best_model.hdf5\n",
      "351/351 - 35s - loss: 2.1990 - accuracy: 0.3171 - val_loss: 2.2573 - val_accuracy: 0.2712 - 35s/epoch - 99ms/step\n",
      "Epoch 2/120\n",
      "\n",
      "Epoch 2: val_accuracy improved from 0.27120 to 0.44680, saving model to my_best_model.hdf5\n",
      "351/351 - 23s - loss: 1.6624 - accuracy: 0.4310 - val_loss: 1.7143 - val_accuracy: 0.4468 - 23s/epoch - 64ms/step\n",
      "Epoch 3/120\n",
      "\n",
      "Epoch 3: val_accuracy improved from 0.44680 to 0.55600, saving model to my_best_model.hdf5\n",
      "351/351 - 23s - loss: 1.4700 - accuracy: 0.4919 - val_loss: 1.2742 - val_accuracy: 0.5560 - 23s/epoch - 67ms/step\n",
      "Epoch 4/120\n",
      "\n",
      "Epoch 4: val_accuracy did not improve from 0.55600\n",
      "351/351 - 24s - loss: 1.3380 - accuracy: 0.5394 - val_loss: 1.4009 - val_accuracy: 0.5346 - 24s/epoch - 67ms/step\n",
      "Epoch 5/120\n",
      "\n",
      "Epoch 5: val_accuracy improved from 0.55600 to 0.57500, saving model to my_best_model.hdf5\n",
      "351/351 - 22s - loss: 1.2479 - accuracy: 0.5710 - val_loss: 1.3239 - val_accuracy: 0.5750 - 22s/epoch - 64ms/step\n",
      "Epoch 6/120\n",
      "\n",
      "Epoch 6: val_accuracy improved from 0.57500 to 0.62100, saving model to my_best_model.hdf5\n",
      "351/351 - 23s - loss: 1.1935 - accuracy: 0.5910 - val_loss: 1.1353 - val_accuracy: 0.6210 - 23s/epoch - 66ms/step\n",
      "Epoch 7/120\n",
      "\n",
      "Epoch 7: val_accuracy improved from 0.62100 to 0.64440, saving model to my_best_model.hdf5\n",
      "351/351 - 22s - loss: 1.1390 - accuracy: 0.6092 - val_loss: 1.0800 - val_accuracy: 0.6444 - 22s/epoch - 64ms/step\n",
      "Epoch 8/120\n",
      "\n",
      "Epoch 8: val_accuracy improved from 0.64440 to 0.65060, saving model to my_best_model.hdf5\n",
      "351/351 - 24s - loss: 1.1081 - accuracy: 0.6224 - val_loss: 1.0372 - val_accuracy: 0.6506 - 24s/epoch - 67ms/step\n",
      "Epoch 9/120\n",
      "\n",
      "Epoch 9: val_accuracy improved from 0.65060 to 0.66180, saving model to my_best_model.hdf5\n",
      "351/351 - 22s - loss: 1.0717 - accuracy: 0.6383 - val_loss: 0.9944 - val_accuracy: 0.6618 - 22s/epoch - 64ms/step\n",
      "Epoch 10/120\n",
      "\n",
      "Epoch 10: val_accuracy improved from 0.66180 to 0.66860, saving model to my_best_model.hdf5\n",
      "351/351 - 23s - loss: 1.0499 - accuracy: 0.6482 - val_loss: 1.0245 - val_accuracy: 0.6686 - 23s/epoch - 65ms/step\n",
      "Epoch 11/120\n",
      "\n",
      "Epoch 11: val_accuracy improved from 0.66860 to 0.67300, saving model to my_best_model.hdf5\n",
      "351/351 - 23s - loss: 1.0277 - accuracy: 0.6557 - val_loss: 1.0015 - val_accuracy: 0.6730 - 23s/epoch - 64ms/step\n",
      "Epoch 12/120\n",
      "\n",
      "Epoch 12: val_accuracy improved from 0.67300 to 0.67560, saving model to my_best_model.hdf5\n",
      "351/351 - 22s - loss: 1.0120 - accuracy: 0.6629 - val_loss: 1.0036 - val_accuracy: 0.6756 - 22s/epoch - 64ms/step\n",
      "Epoch 13/120\n",
      "\n",
      "Epoch 13: val_accuracy improved from 0.67560 to 0.67960, saving model to my_best_model.hdf5\n",
      "351/351 - 23s - loss: 0.9968 - accuracy: 0.6724 - val_loss: 0.9749 - val_accuracy: 0.6796 - 23s/epoch - 64ms/step\n",
      "Epoch 14/120\n",
      "\n",
      "Epoch 14: val_accuracy improved from 0.67960 to 0.69720, saving model to my_best_model.hdf5\n",
      "351/351 - 22s - loss: 0.9771 - accuracy: 0.6776 - val_loss: 0.9609 - val_accuracy: 0.6972 - 22s/epoch - 63ms/step\n",
      "Epoch 15/120\n",
      "\n",
      "Epoch 15: val_accuracy did not improve from 0.69720\n",
      "351/351 - 22s - loss: 0.9629 - accuracy: 0.6858 - val_loss: 1.0189 - val_accuracy: 0.6808 - 22s/epoch - 64ms/step\n",
      "Epoch 16/120\n",
      "\n",
      "Epoch 16: val_accuracy improved from 0.69720 to 0.70480, saving model to my_best_model.hdf5\n",
      "351/351 - 23s - loss: 0.9586 - accuracy: 0.6888 - val_loss: 0.9464 - val_accuracy: 0.7048 - 23s/epoch - 65ms/step\n",
      "Epoch 17/120\n",
      "\n",
      "Epoch 17: val_accuracy improved from 0.70480 to 0.71880, saving model to my_best_model.hdf5\n",
      "351/351 - 22s - loss: 0.9526 - accuracy: 0.6929 - val_loss: 0.8833 - val_accuracy: 0.7188 - 22s/epoch - 63ms/step\n",
      "Epoch 18/120\n",
      "\n",
      "Epoch 18: val_accuracy did not improve from 0.71880\n",
      "351/351 - 23s - loss: 0.9366 - accuracy: 0.6988 - val_loss: 0.9430 - val_accuracy: 0.7042 - 23s/epoch - 65ms/step\n",
      "Epoch 19/120\n",
      "\n",
      "Epoch 19: val_accuracy improved from 0.71880 to 0.72400, saving model to my_best_model.hdf5\n",
      "351/351 - 23s - loss: 0.9269 - accuracy: 0.7032 - val_loss: 0.8916 - val_accuracy: 0.7240 - 23s/epoch - 66ms/step\n",
      "Epoch 20/120\n",
      "\n",
      "Epoch 20: val_accuracy improved from 0.72400 to 0.74380, saving model to my_best_model.hdf5\n",
      "351/351 - 23s - loss: 0.9196 - accuracy: 0.7071 - val_loss: 0.8159 - val_accuracy: 0.7438 - 23s/epoch - 65ms/step\n",
      "Epoch 21/120\n",
      "\n",
      "Epoch 21: val_accuracy did not improve from 0.74380\n",
      "351/351 - 22s - loss: 0.9161 - accuracy: 0.7088 - val_loss: 0.8356 - val_accuracy: 0.7428 - 22s/epoch - 64ms/step\n",
      "Epoch 22/120\n",
      "\n",
      "Epoch 22: val_accuracy did not improve from 0.74380\n",
      "351/351 - 22s - loss: 0.9109 - accuracy: 0.7104 - val_loss: 0.8695 - val_accuracy: 0.7312 - 22s/epoch - 63ms/step\n",
      "Epoch 23/120\n",
      "\n",
      "Epoch 23: val_accuracy did not improve from 0.74380\n",
      "351/351 - 22s - loss: 0.9009 - accuracy: 0.7168 - val_loss: 0.8536 - val_accuracy: 0.7370 - 22s/epoch - 64ms/step\n",
      "Epoch 24/120\n",
      "\n",
      "Epoch 24: val_accuracy improved from 0.74380 to 0.75100, saving model to my_best_model.hdf5\n",
      "351/351 - 23s - loss: 0.9036 - accuracy: 0.7150 - val_loss: 0.8191 - val_accuracy: 0.7510 - 23s/epoch - 66ms/step\n",
      "Epoch 25/120\n",
      "\n",
      "Epoch 25: val_accuracy did not improve from 0.75100\n",
      "351/351 - 23s - loss: 0.8966 - accuracy: 0.7200 - val_loss: 1.0149 - val_accuracy: 0.7044 - 23s/epoch - 66ms/step\n",
      "Epoch 26/120\n",
      "\n",
      "Epoch 26: val_accuracy did not improve from 0.75100\n",
      "351/351 - 23s - loss: 0.8938 - accuracy: 0.7209 - val_loss: 0.8481 - val_accuracy: 0.7426 - 23s/epoch - 66ms/step\n",
      "Epoch 27/120\n",
      "\n",
      "Epoch 27: val_accuracy did not improve from 0.75100\n",
      "351/351 - 23s - loss: 0.8922 - accuracy: 0.7220 - val_loss: 0.9237 - val_accuracy: 0.7238 - 23s/epoch - 66ms/step\n",
      "Epoch 28/120\n",
      "\n",
      "Epoch 28: val_accuracy did not improve from 0.75100\n",
      "351/351 - 23s - loss: 0.8823 - accuracy: 0.7271 - val_loss: 0.8383 - val_accuracy: 0.7442 - 23s/epoch - 67ms/step\n",
      "Epoch 29/120\n",
      "\n",
      "Epoch 29: val_accuracy did not improve from 0.75100\n",
      "351/351 - 22s - loss: 0.8748 - accuracy: 0.7311 - val_loss: 0.9385 - val_accuracy: 0.7152 - 22s/epoch - 63ms/step\n",
      "Epoch 30/120\n",
      "\n",
      "Epoch 30: val_accuracy did not improve from 0.75100\n",
      "351/351 - 22s - loss: 0.8729 - accuracy: 0.7328 - val_loss: 0.8504 - val_accuracy: 0.7466 - 22s/epoch - 63ms/step\n",
      "Epoch 31/120\n",
      "\n",
      "Epoch 31: val_accuracy improved from 0.75100 to 0.76420, saving model to my_best_model.hdf5\n",
      "351/351 - 23s - loss: 0.8729 - accuracy: 0.7326 - val_loss: 0.7913 - val_accuracy: 0.7642 - 23s/epoch - 65ms/step\n",
      "Epoch 32/120\n",
      "\n",
      "Epoch 32: val_accuracy did not improve from 0.76420\n",
      "351/351 - 23s - loss: 0.8645 - accuracy: 0.7355 - val_loss: 0.8258 - val_accuracy: 0.7548 - 23s/epoch - 64ms/step\n",
      "Epoch 33/120\n",
      "\n",
      "Epoch 33: val_accuracy improved from 0.76420 to 0.76920, saving model to my_best_model.hdf5\n",
      "351/351 - 22s - loss: 0.8658 - accuracy: 0.7338 - val_loss: 0.7787 - val_accuracy: 0.7692 - 22s/epoch - 63ms/step\n",
      "Epoch 34/120\n",
      "\n",
      "Epoch 34: val_accuracy did not improve from 0.76920\n",
      "351/351 - 23s - loss: 0.8552 - accuracy: 0.7382 - val_loss: 0.8256 - val_accuracy: 0.7558 - 23s/epoch - 65ms/step\n",
      "Epoch 35/120\n",
      "\n",
      "Epoch 35: val_accuracy did not improve from 0.76920\n",
      "351/351 - 22s - loss: 0.8587 - accuracy: 0.7395 - val_loss: 0.8752 - val_accuracy: 0.7486 - 22s/epoch - 63ms/step\n",
      "Epoch 36/120\n",
      "\n",
      "Epoch 36: val_accuracy did not improve from 0.76920\n",
      "351/351 - 22s - loss: 0.8529 - accuracy: 0.7420 - val_loss: 0.9151 - val_accuracy: 0.7388 - 22s/epoch - 63ms/step\n",
      "Epoch 37/120\n",
      "\n",
      "Epoch 37: val_accuracy did not improve from 0.76920\n",
      "351/351 - 23s - loss: 0.8514 - accuracy: 0.7453 - val_loss: 0.7965 - val_accuracy: 0.7636 - 23s/epoch - 65ms/step\n",
      "Epoch 38/120\n",
      "\n",
      "Epoch 38: val_accuracy did not improve from 0.76920\n",
      "351/351 - 22s - loss: 0.8466 - accuracy: 0.7436 - val_loss: 0.7996 - val_accuracy: 0.7644 - 22s/epoch - 62ms/step\n",
      "Epoch 39/120\n",
      "\n",
      "Epoch 39: val_accuracy did not improve from 0.76920\n",
      "351/351 - 23s - loss: 0.8453 - accuracy: 0.7467 - val_loss: 0.8677 - val_accuracy: 0.7444 - 23s/epoch - 64ms/step\n",
      "Epoch 40/120\n",
      "\n",
      "Epoch 40: val_accuracy improved from 0.76920 to 0.78400, saving model to my_best_model.hdf5\n",
      "351/351 - 22s - loss: 0.8369 - accuracy: 0.7504 - val_loss: 0.7306 - val_accuracy: 0.7840 - 22s/epoch - 63ms/step\n",
      "Epoch 41/120\n",
      "\n",
      "Epoch 41: val_accuracy did not improve from 0.78400\n",
      "351/351 - 22s - loss: 0.8394 - accuracy: 0.7483 - val_loss: 0.8370 - val_accuracy: 0.7552 - 22s/epoch - 64ms/step\n",
      "Epoch 42/120\n",
      "\n",
      "Epoch 42: val_accuracy did not improve from 0.78400\n",
      "351/351 - 22s - loss: 0.8381 - accuracy: 0.7499 - val_loss: 0.8521 - val_accuracy: 0.7558 - 22s/epoch - 63ms/step\n",
      "Epoch 43/120\n",
      "\n",
      "Epoch 43: val_accuracy did not improve from 0.78400\n",
      "351/351 - 22s - loss: 0.8351 - accuracy: 0.7516 - val_loss: 0.8661 - val_accuracy: 0.7572 - 22s/epoch - 64ms/step\n",
      "Epoch 44/120\n",
      "\n",
      "Epoch 44: val_accuracy did not improve from 0.78400\n",
      "351/351 - 22s - loss: 0.8390 - accuracy: 0.7497 - val_loss: 0.7794 - val_accuracy: 0.7756 - 22s/epoch - 64ms/step\n",
      "Epoch 45/120\n",
      "\n",
      "Epoch 45: val_accuracy did not improve from 0.78400\n",
      "351/351 - 23s - loss: 0.8243 - accuracy: 0.7545 - val_loss: 0.8104 - val_accuracy: 0.7718 - 23s/epoch - 65ms/step\n",
      "Epoch 46/120\n",
      "\n",
      "Epoch 46: val_accuracy improved from 0.78400 to 0.78860, saving model to my_best_model.hdf5\n",
      "351/351 - 22s - loss: 0.8293 - accuracy: 0.7546 - val_loss: 0.7400 - val_accuracy: 0.7886 - 22s/epoch - 63ms/step\n",
      "Epoch 47/120\n",
      "\n",
      "Epoch 47: val_accuracy did not improve from 0.78860\n",
      "351/351 - 22s - loss: 0.8250 - accuracy: 0.7569 - val_loss: 0.7886 - val_accuracy: 0.7690 - 22s/epoch - 64ms/step\n",
      "Epoch 48/120\n",
      "\n",
      "Epoch 48: val_accuracy did not improve from 0.78860\n",
      "351/351 - 22s - loss: 0.8253 - accuracy: 0.7551 - val_loss: 0.8328 - val_accuracy: 0.7630 - 22s/epoch - 64ms/step\n",
      "Epoch 49/120\n",
      "\n",
      "Epoch 49: val_accuracy did not improve from 0.78860\n",
      "351/351 - 22s - loss: 0.8278 - accuracy: 0.7556 - val_loss: 0.7562 - val_accuracy: 0.7812 - 22s/epoch - 63ms/step\n",
      "Epoch 50/120\n",
      "\n",
      "Epoch 50: val_accuracy did not improve from 0.78860\n",
      "351/351 - 23s - loss: 0.8271 - accuracy: 0.7557 - val_loss: 0.8510 - val_accuracy: 0.7604 - 23s/epoch - 66ms/step\n",
      "Epoch 51/120\n",
      "\n",
      "Epoch 51: val_accuracy did not improve from 0.78860\n",
      "351/351 - 22s - loss: 0.8208 - accuracy: 0.7582 - val_loss: 0.8256 - val_accuracy: 0.7622 - 22s/epoch - 64ms/step\n",
      "Epoch 52/120\n",
      "\n",
      "Epoch 52: val_accuracy did not improve from 0.78860\n",
      "351/351 - 23s - loss: 0.8201 - accuracy: 0.7601 - val_loss: 0.8685 - val_accuracy: 0.7616 - 23s/epoch - 65ms/step\n",
      "Epoch 53/120\n",
      "\n",
      "Epoch 53: val_accuracy did not improve from 0.78860\n",
      "351/351 - 22s - loss: 0.8207 - accuracy: 0.7577 - val_loss: 0.8540 - val_accuracy: 0.7610 - 22s/epoch - 64ms/step\n",
      "Epoch 54/120\n",
      "\n",
      "Epoch 54: val_accuracy did not improve from 0.78860\n",
      "351/351 - 23s - loss: 0.8155 - accuracy: 0.7601 - val_loss: 0.7719 - val_accuracy: 0.7792 - 23s/epoch - 64ms/step\n",
      "Epoch 55/120\n",
      "\n",
      "Epoch 55: val_accuracy did not improve from 0.78860\n",
      "351/351 - 23s - loss: 0.8186 - accuracy: 0.7588 - val_loss: 0.7475 - val_accuracy: 0.7874 - 23s/epoch - 64ms/step\n",
      "Epoch 56/120\n",
      "\n",
      "Epoch 56: val_accuracy did not improve from 0.78860\n",
      "351/351 - 23s - loss: 0.8104 - accuracy: 0.7634 - val_loss: 0.8864 - val_accuracy: 0.7420 - 23s/epoch - 65ms/step\n",
      "Epoch 57/120\n",
      "\n",
      "Epoch 57: val_accuracy did not improve from 0.78860\n",
      "351/351 - 22s - loss: 0.8195 - accuracy: 0.7595 - val_loss: 0.8648 - val_accuracy: 0.7530 - 22s/epoch - 63ms/step\n",
      "Epoch 58/120\n",
      "\n",
      "Epoch 58: val_accuracy improved from 0.78860 to 0.78920, saving model to my_best_model.hdf5\n",
      "351/351 - 23s - loss: 0.8153 - accuracy: 0.7594 - val_loss: 0.7370 - val_accuracy: 0.7892 - 23s/epoch - 65ms/step\n",
      "Epoch 59/120\n",
      "\n",
      "Epoch 59: val_accuracy improved from 0.78920 to 0.80040, saving model to my_best_model.hdf5\n",
      "351/351 - 23s - loss: 0.8067 - accuracy: 0.7632 - val_loss: 0.7255 - val_accuracy: 0.8004 - 23s/epoch - 65ms/step\n",
      "Epoch 60/120\n",
      "\n",
      "Epoch 60: val_accuracy did not improve from 0.80040\n",
      "351/351 - 23s - loss: 0.8038 - accuracy: 0.7644 - val_loss: 0.8341 - val_accuracy: 0.7688 - 23s/epoch - 65ms/step\n",
      "Epoch 61/120\n",
      "\n",
      "Epoch 61: val_accuracy did not improve from 0.80040\n",
      "351/351 - 22s - loss: 0.8125 - accuracy: 0.7635 - val_loss: 0.7876 - val_accuracy: 0.7762 - 22s/epoch - 63ms/step\n",
      "Epoch 62/120\n",
      "\n",
      "Epoch 62: val_accuracy did not improve from 0.80040\n",
      "351/351 - 22s - loss: 0.8070 - accuracy: 0.7641 - val_loss: 0.7561 - val_accuracy: 0.7890 - 22s/epoch - 63ms/step\n",
      "Epoch 63/120\n",
      "\n",
      "Epoch 63: val_accuracy did not improve from 0.80040\n",
      "351/351 - 23s - loss: 0.8082 - accuracy: 0.7635 - val_loss: 0.7717 - val_accuracy: 0.7848 - 23s/epoch - 64ms/step\n",
      "Epoch 64/120\n",
      "\n",
      "Epoch 64: val_accuracy did not improve from 0.80040\n",
      "351/351 - 23s - loss: 0.8007 - accuracy: 0.7670 - val_loss: 0.7726 - val_accuracy: 0.7900 - 23s/epoch - 64ms/step\n",
      "Epoch 65/120\n",
      "\n",
      "Epoch 65: val_accuracy did not improve from 0.80040\n",
      "351/351 - 23s - loss: 0.8000 - accuracy: 0.7671 - val_loss: 0.8273 - val_accuracy: 0.7688 - 23s/epoch - 64ms/step\n",
      "Epoch 66/120\n",
      "\n",
      "Epoch 66: val_accuracy did not improve from 0.80040\n",
      "351/351 - 23s - loss: 0.8048 - accuracy: 0.7653 - val_loss: 0.8682 - val_accuracy: 0.7612 - 23s/epoch - 64ms/step\n",
      "Epoch 67/120\n",
      "\n",
      "Epoch 67: val_accuracy did not improve from 0.80040\n",
      "351/351 - 23s - loss: 0.8018 - accuracy: 0.7661 - val_loss: 0.8069 - val_accuracy: 0.7682 - 23s/epoch - 65ms/step\n",
      "Epoch 68/120\n",
      "\n",
      "Epoch 68: val_accuracy did not improve from 0.80040\n",
      "351/351 - 23s - loss: 0.7993 - accuracy: 0.7667 - val_loss: 0.8366 - val_accuracy: 0.7644 - 23s/epoch - 65ms/step\n",
      "Epoch 69/120\n",
      "\n",
      "Epoch 69: val_accuracy did not improve from 0.80040\n",
      "351/351 - 23s - loss: 0.7948 - accuracy: 0.7674 - val_loss: 0.7514 - val_accuracy: 0.7900 - 23s/epoch - 65ms/step\n",
      "Epoch 70/120\n",
      "\n",
      "Epoch 70: val_accuracy did not improve from 0.80040\n",
      "351/351 - 23s - loss: 0.7958 - accuracy: 0.7686 - val_loss: 0.7979 - val_accuracy: 0.7812 - 23s/epoch - 66ms/step\n",
      "Epoch 71/120\n",
      "\n",
      "Epoch 71: val_accuracy did not improve from 0.80040\n",
      "351/351 - 23s - loss: 0.7923 - accuracy: 0.7709 - val_loss: 0.7648 - val_accuracy: 0.7884 - 23s/epoch - 65ms/step\n",
      "Epoch 72/120\n",
      "\n",
      "Epoch 72: val_accuracy did not improve from 0.80040\n",
      "351/351 - 22s - loss: 0.7973 - accuracy: 0.7676 - val_loss: 0.7815 - val_accuracy: 0.7862 - 22s/epoch - 64ms/step\n",
      "Epoch 73/120\n",
      "\n",
      "Epoch 73: val_accuracy did not improve from 0.80040\n",
      "351/351 - 23s - loss: 0.7949 - accuracy: 0.7698 - val_loss: 0.7592 - val_accuracy: 0.7960 - 23s/epoch - 65ms/step\n",
      "Epoch 74/120\n",
      "\n",
      "Epoch 74: val_accuracy did not improve from 0.80040\n",
      "351/351 - 22s - loss: 0.7966 - accuracy: 0.7678 - val_loss: 0.7417 - val_accuracy: 0.7948 - 22s/epoch - 63ms/step\n",
      "Epoch 75/120\n",
      "\n",
      "Epoch 75: val_accuracy did not improve from 0.80040\n",
      "351/351 - 23s - loss: 0.7984 - accuracy: 0.7687 - val_loss: 0.7671 - val_accuracy: 0.7896 - 23s/epoch - 65ms/step\n",
      "Epoch 76/120\n",
      "\n",
      "Epoch 76: val_accuracy did not improve from 0.80040\n",
      "351/351 - 22s - loss: 0.7930 - accuracy: 0.7696 - val_loss: 0.7571 - val_accuracy: 0.7896 - 22s/epoch - 63ms/step\n",
      "Epoch 77/120\n",
      "\n",
      "Epoch 77: val_accuracy did not improve from 0.80040\n",
      "351/351 - 23s - loss: 0.7869 - accuracy: 0.7718 - val_loss: 0.7493 - val_accuracy: 0.7936 - 23s/epoch - 66ms/step\n",
      "Epoch 78/120\n",
      "\n",
      "Epoch 78: val_accuracy did not improve from 0.80040\n",
      "351/351 - 23s - loss: 0.7928 - accuracy: 0.7700 - val_loss: 0.7635 - val_accuracy: 0.7876 - 23s/epoch - 64ms/step\n",
      "Epoch 79/120\n",
      "\n",
      "Epoch 79: val_accuracy did not improve from 0.80040\n",
      "351/351 - 22s - loss: 0.7919 - accuracy: 0.7729 - val_loss: 0.7235 - val_accuracy: 0.8000 - 22s/epoch - 63ms/step\n",
      "Epoch 80/120\n",
      "\n",
      "Epoch 80: val_accuracy did not improve from 0.80040\n",
      "351/351 - 23s - loss: 0.7929 - accuracy: 0.7704 - val_loss: 0.7332 - val_accuracy: 0.7944 - 23s/epoch - 64ms/step\n",
      "Epoch 81/120\n",
      "\n",
      "Epoch 81: val_accuracy improved from 0.80040 to 0.80340, saving model to my_best_model.hdf5\n",
      "351/351 - 22s - loss: 0.7833 - accuracy: 0.7735 - val_loss: 0.7273 - val_accuracy: 0.8034 - 22s/epoch - 64ms/step\n",
      "Epoch 82/120\n",
      "\n",
      "Epoch 82: val_accuracy did not improve from 0.80340\n",
      "351/351 - 22s - loss: 0.7848 - accuracy: 0.7745 - val_loss: 0.9410 - val_accuracy: 0.7458 - 22s/epoch - 62ms/step\n",
      "Epoch 83/120\n",
      "\n",
      "Epoch 83: val_accuracy did not improve from 0.80340\n",
      "351/351 - 22s - loss: 0.7876 - accuracy: 0.7734 - val_loss: 0.7746 - val_accuracy: 0.7902 - 22s/epoch - 64ms/step\n",
      "Epoch 84/120\n",
      "\n",
      "Epoch 84: val_accuracy did not improve from 0.80340\n",
      "351/351 - 22s - loss: 0.7880 - accuracy: 0.7742 - val_loss: 0.7602 - val_accuracy: 0.7910 - 22s/epoch - 62ms/step\n",
      "Epoch 85/120\n",
      "\n",
      "Epoch 85: val_accuracy did not improve from 0.80340\n",
      "351/351 - 22s - loss: 0.7846 - accuracy: 0.7722 - val_loss: 0.7723 - val_accuracy: 0.7868 - 22s/epoch - 64ms/step\n",
      "Epoch 86/120\n",
      "\n",
      "Epoch 86: val_accuracy did not improve from 0.80340\n",
      "351/351 - 23s - loss: 0.7836 - accuracy: 0.7750 - val_loss: 0.7563 - val_accuracy: 0.7882 - 23s/epoch - 64ms/step\n",
      "Epoch 87/120\n",
      "\n",
      "Epoch 87: val_accuracy did not improve from 0.80340\n",
      "351/351 - 22s - loss: 0.7862 - accuracy: 0.7720 - val_loss: 0.7708 - val_accuracy: 0.7870 - 22s/epoch - 62ms/step\n",
      "Epoch 88/120\n",
      "\n",
      "Epoch 88: val_accuracy did not improve from 0.80340\n",
      "351/351 - 22s - loss: 0.7830 - accuracy: 0.7779 - val_loss: 0.7351 - val_accuracy: 0.7948 - 22s/epoch - 63ms/step\n",
      "Epoch 89/120\n",
      "\n",
      "Epoch 89: val_accuracy did not improve from 0.80340\n",
      "351/351 - 22s - loss: 0.7801 - accuracy: 0.7780 - val_loss: 0.7483 - val_accuracy: 0.7988 - 22s/epoch - 62ms/step\n",
      "Epoch 90/120\n",
      "\n",
      "Epoch 90: val_accuracy improved from 0.80340 to 0.80680, saving model to my_best_model.hdf5\n",
      "351/351 - 22s - loss: 0.7838 - accuracy: 0.7754 - val_loss: 0.7218 - val_accuracy: 0.8068 - 22s/epoch - 63ms/step\n",
      "Epoch 91/120\n",
      "\n",
      "Epoch 91: val_accuracy did not improve from 0.80680\n",
      "351/351 - 22s - loss: 0.7820 - accuracy: 0.7765 - val_loss: 0.8005 - val_accuracy: 0.7838 - 22s/epoch - 63ms/step\n",
      "Epoch 92/120\n",
      "\n",
      "Epoch 92: val_accuracy improved from 0.80680 to 0.81440, saving model to my_best_model.hdf5\n",
      "351/351 - 22s - loss: 0.7805 - accuracy: 0.7762 - val_loss: 0.6762 - val_accuracy: 0.8144 - 22s/epoch - 64ms/step\n",
      "Epoch 93/120\n",
      "\n",
      "Epoch 93: val_accuracy did not improve from 0.81440\n",
      "351/351 - 22s - loss: 0.7779 - accuracy: 0.7772 - val_loss: 0.8329 - val_accuracy: 0.7670 - 22s/epoch - 64ms/step\n",
      "Epoch 94/120\n",
      "\n",
      "Epoch 94: val_accuracy did not improve from 0.81440\n",
      "351/351 - 22s - loss: 0.7768 - accuracy: 0.7778 - val_loss: 0.7386 - val_accuracy: 0.7960 - 22s/epoch - 64ms/step\n",
      "Epoch 95/120\n",
      "\n",
      "Epoch 95: val_accuracy did not improve from 0.81440\n",
      "351/351 - 24s - loss: 0.7833 - accuracy: 0.7748 - val_loss: 0.7270 - val_accuracy: 0.7990 - 24s/epoch - 69ms/step\n",
      "Epoch 96/120\n",
      "\n",
      "Epoch 96: val_accuracy did not improve from 0.81440\n",
      "351/351 - 23s - loss: 0.7770 - accuracy: 0.7787 - val_loss: 0.7243 - val_accuracy: 0.7984 - 23s/epoch - 65ms/step\n",
      "Epoch 97/120\n",
      "\n",
      "Epoch 97: val_accuracy did not improve from 0.81440\n",
      "351/351 - 23s - loss: 0.7768 - accuracy: 0.7800 - val_loss: 0.8191 - val_accuracy: 0.7748 - 23s/epoch - 66ms/step\n",
      "Epoch 98/120\n",
      "\n",
      "Epoch 98: val_accuracy improved from 0.81440 to 0.82240, saving model to my_best_model.hdf5\n",
      "351/351 - 22s - loss: 0.7761 - accuracy: 0.7778 - val_loss: 0.6662 - val_accuracy: 0.8224 - 22s/epoch - 64ms/step\n",
      "Epoch 99/120\n",
      "\n",
      "Epoch 99: val_accuracy did not improve from 0.82240\n",
      "351/351 - 23s - loss: 0.7752 - accuracy: 0.7785 - val_loss: 0.7906 - val_accuracy: 0.7834 - 23s/epoch - 64ms/step\n",
      "Epoch 100/120\n",
      "\n",
      "Epoch 100: val_accuracy did not improve from 0.82240\n",
      "351/351 - 22s - loss: 0.7779 - accuracy: 0.7761 - val_loss: 0.8426 - val_accuracy: 0.7708 - 22s/epoch - 63ms/step\n",
      "Epoch 101/120\n",
      "\n",
      "Epoch 101: val_accuracy did not improve from 0.82240\n",
      "351/351 - 22s - loss: 0.7754 - accuracy: 0.7774 - val_loss: 0.6905 - val_accuracy: 0.8136 - 22s/epoch - 64ms/step\n",
      "Epoch 102/120\n",
      "\n",
      "Epoch 102: val_accuracy did not improve from 0.82240\n",
      "351/351 - 23s - loss: 0.7787 - accuracy: 0.7799 - val_loss: 0.7641 - val_accuracy: 0.7924 - 23s/epoch - 64ms/step\n",
      "Epoch 103/120\n",
      "\n",
      "Epoch 103: val_accuracy did not improve from 0.82240\n",
      "351/351 - 22s - loss: 0.7750 - accuracy: 0.7781 - val_loss: 0.7288 - val_accuracy: 0.8012 - 22s/epoch - 64ms/step\n",
      "Epoch 104/120\n",
      "\n",
      "Epoch 104: val_accuracy did not improve from 0.82240\n",
      "351/351 - 22s - loss: 0.7687 - accuracy: 0.7807 - val_loss: 0.7988 - val_accuracy: 0.7846 - 22s/epoch - 62ms/step\n",
      "Epoch 105/120\n",
      "\n",
      "Epoch 105: val_accuracy did not improve from 0.82240\n",
      "351/351 - 22s - loss: 0.7717 - accuracy: 0.7811 - val_loss: 0.7814 - val_accuracy: 0.7876 - 22s/epoch - 63ms/step\n",
      "Epoch 106/120\n",
      "\n",
      "Epoch 106: val_accuracy did not improve from 0.82240\n",
      "351/351 - 22s - loss: 0.7721 - accuracy: 0.7783 - val_loss: 0.7690 - val_accuracy: 0.7860 - 22s/epoch - 62ms/step\n",
      "Epoch 107/120\n",
      "\n",
      "Epoch 107: val_accuracy did not improve from 0.82240\n",
      "351/351 - 22s - loss: 0.7751 - accuracy: 0.7806 - val_loss: 0.7292 - val_accuracy: 0.7998 - 22s/epoch - 63ms/step\n",
      "Epoch 108/120\n",
      "\n",
      "Epoch 108: val_accuracy did not improve from 0.82240\n",
      "351/351 - 23s - loss: 0.7654 - accuracy: 0.7819 - val_loss: 0.6682 - val_accuracy: 0.8216 - 23s/epoch - 64ms/step\n",
      "Epoch 109/120\n",
      "\n",
      "Epoch 109: val_accuracy did not improve from 0.82240\n",
      "351/351 - 22s - loss: 0.7742 - accuracy: 0.7798 - val_loss: 0.7194 - val_accuracy: 0.8050 - 22s/epoch - 64ms/step\n",
      "Epoch 110/120\n",
      "\n",
      "Epoch 110: val_accuracy did not improve from 0.82240\n",
      "351/351 - 22s - loss: 0.7708 - accuracy: 0.7801 - val_loss: 0.7719 - val_accuracy: 0.7906 - 22s/epoch - 64ms/step\n",
      "Epoch 111/120\n",
      "\n",
      "Epoch 111: val_accuracy did not improve from 0.82240\n",
      "351/351 - 23s - loss: 0.7685 - accuracy: 0.7808 - val_loss: 0.7838 - val_accuracy: 0.7882 - 23s/epoch - 65ms/step\n",
      "Epoch 112/120\n",
      "\n",
      "Epoch 112: val_accuracy did not improve from 0.82240\n",
      "351/351 - 22s - loss: 0.7665 - accuracy: 0.7794 - val_loss: 0.7119 - val_accuracy: 0.8048 - 22s/epoch - 64ms/step\n",
      "Epoch 113/120\n",
      "\n",
      "Epoch 113: val_accuracy did not improve from 0.82240\n",
      "351/351 - 23s - loss: 0.7680 - accuracy: 0.7828 - val_loss: 0.7811 - val_accuracy: 0.7846 - 23s/epoch - 65ms/step\n",
      "Epoch 114/120\n",
      "\n",
      "Epoch 114: val_accuracy did not improve from 0.82240\n",
      "351/351 - 22s - loss: 0.7685 - accuracy: 0.7806 - val_loss: 0.7056 - val_accuracy: 0.8100 - 22s/epoch - 64ms/step\n",
      "Epoch 115/120\n",
      "\n",
      "Epoch 115: val_accuracy did not improve from 0.82240\n",
      "351/351 - 24s - loss: 0.7648 - accuracy: 0.7816 - val_loss: 0.7260 - val_accuracy: 0.7980 - 24s/epoch - 67ms/step\n",
      "Epoch 116/120\n",
      "\n",
      "Epoch 116: val_accuracy did not improve from 0.82240\n",
      "351/351 - 22s - loss: 0.7643 - accuracy: 0.7829 - val_loss: 0.7940 - val_accuracy: 0.7812 - 22s/epoch - 63ms/step\n",
      "Epoch 117/120\n",
      "\n",
      "Epoch 117: val_accuracy did not improve from 0.82240\n",
      "351/351 - 22s - loss: 0.7703 - accuracy: 0.7802 - val_loss: 0.7115 - val_accuracy: 0.8040 - 22s/epoch - 63ms/step\n",
      "Epoch 118/120\n",
      "\n",
      "Epoch 118: val_accuracy did not improve from 0.82240\n",
      "351/351 - 22s - loss: 0.7647 - accuracy: 0.7831 - val_loss: 0.7498 - val_accuracy: 0.7960 - 22s/epoch - 64ms/step\n",
      "Epoch 119/120\n",
      "\n",
      "Epoch 119: val_accuracy did not improve from 0.82240\n",
      "351/351 - 22s - loss: 0.7658 - accuracy: 0.7830 - val_loss: 0.6977 - val_accuracy: 0.8106 - 22s/epoch - 63ms/step\n",
      "Epoch 120/120\n",
      "\n",
      "Epoch 120: val_accuracy did not improve from 0.82240\n",
      "351/351 - 22s - loss: 0.7581 - accuracy: 0.7856 - val_loss: 0.7176 - val_accuracy: 0.8042 - 22s/epoch - 64ms/step\n"
     ]
    }
   ],
   "source": [
    "# Generating Images from\n",
    "hist = model.fit(datagen.flow(x_train, y_train, batch_size=128),\n",
    "                 # Callback\n",
    "                 callbacks=[checkpoint],\n",
    "                 # Calculate each epoch\n",
    "                 steps_per_epoch=x_train.shape[0] // 128,\n",
    "                 # Iterations\n",
    "                 epochs=120,\n",
    "                 # Single Line\n",
    "                 verbose=2,\n",
    "                 # Validation Dataset\n",
    "                 validation_data=(x_valid, y_valid))"
   ]
  },
  {
   "cell_type": "code",
   "execution_count": 20,
   "id": "5781c08b",
   "metadata": {
    "execution": {
     "iopub.execute_input": "2023-03-16T21:28:38.488154Z",
     "iopub.status.busy": "2023-03-16T21:28:38.487190Z",
     "iopub.status.idle": "2023-03-16T21:28:38.694643Z",
     "shell.execute_reply": "2023-03-16T21:28:38.693910Z"
    },
    "papermill": {
     "duration": 0.24261,
     "end_time": "2023-03-16T21:28:38.696710",
     "exception": false,
     "start_time": "2023-03-16T21:28:38.454100",
     "status": "completed"
    },
    "tags": []
   },
   "outputs": [
    {
     "data": {
      "image/png": "[encoded data removed]",
      "text/plain": [
       "<Figure size 640x480 with 1 Axes>"
      ]
     },
     "metadata": {},
     "output_type": "display_data"
    }
   ],
   "source": [
    "# Training Accuracy\n",
    "plt.plot(hist.history['accuracy'],label='Train')\n",
    "# Validation Accuracy\n",
    "plt.plot(hist.history['val_accuracy'],label='Val')\n",
    "# Title\n",
    "plt.title('Cifer Results')\n",
    "# Visualization Legend\n",
    "plt.legend()\n",
    "plt.show()"
   ]
  },
  {
   "cell_type": "markdown",
   "id": "4003e411",
   "metadata": {
    "papermill": {
     "duration": 0.03248,
     "end_time": "2023-03-16T21:28:38.762666",
     "exception": false,
     "start_time": "2023-03-16T21:28:38.730186",
     "status": "completed"
    },
    "tags": []
   },
   "source": [
    "# Outcome Evaluation"
   ]
  },
  {
   "cell_type": "code",
   "execution_count": 21,
   "id": "824d9529",
   "metadata": {
    "execution": {
     "iopub.execute_input": "2023-03-16T21:28:38.829542Z",
     "iopub.status.busy": "2023-03-16T21:28:38.828602Z",
     "iopub.status.idle": "2023-03-16T21:28:38.834165Z",
     "shell.execute_reply": "2023-03-16T21:28:38.833250Z"
    },
    "papermill": {
     "duration": 0.041142,
     "end_time": "2023-03-16T21:28:38.836339",
     "exception": false,
     "start_time": "2023-03-16T21:28:38.795197",
     "status": "completed"
    },
    "tags": []
   },
   "outputs": [],
   "source": [
    "model2 = model"
   ]
  },
  {
   "cell_type": "code",
   "execution_count": 22,
   "id": "cd533f0e",
   "metadata": {
    "execution": {
     "iopub.execute_input": "2023-03-16T21:28:38.903956Z",
     "iopub.status.busy": "2023-03-16T21:28:38.902367Z",
     "iopub.status.idle": "2023-03-16T21:28:38.958031Z",
     "shell.execute_reply": "2023-03-16T21:28:38.957065Z"
    },
    "papermill": {
     "duration": 0.091251,
     "end_time": "2023-03-16T21:28:38.960233",
     "exception": false,
     "start_time": "2023-03-16T21:28:38.868982",
     "status": "completed"
    },
    "tags": []
   },
   "outputs": [],
   "source": [
    "model2.load_weights('/kaggle/working/my_best_model.hdf5')"
   ]
  },
  {
   "cell_type": "code",
   "execution_count": 23,
   "id": "bc0ba272",
   "metadata": {
    "execution": {
     "iopub.execute_input": "2023-03-16T21:28:39.026652Z",
     "iopub.status.busy": "2023-03-16T21:28:39.026379Z",
     "iopub.status.idle": "2023-03-16T21:28:40.701842Z",
     "shell.execute_reply": "2023-03-16T21:28:40.700867Z"
    },
    "papermill": {
     "duration": 1.711305,
     "end_time": "2023-03-16T21:28:40.704170",
     "exception": false,
     "start_time": "2023-03-16T21:28:38.992865",
     "status": "completed"
    },
    "tags": []
   },
   "outputs": [
    {
     "name": "stdout",
     "output_type": "stream",
     "text": [
      "313/313 [==============================] - 1s 4ms/step - loss: 0.7107 - accuracy: 0.8078\n"
     ]
    },
    {
     "data": {
      "text/plain": [
       "[0.7107429504394531, 0.8077999949455261]"
      ]
     },
     "execution_count": 23,
     "metadata": {},
     "output_type": "execute_result"
    }
   ],
   "source": [
    "model.evaluate(x_test, y_test)"
   ]
  },
  {
   "cell_type": "markdown",
   "id": "99552328",
   "metadata": {
    "papermill": {
     "duration": 0.0337,
     "end_time": "2023-03-16T21:28:40.772270",
     "exception": false,
     "start_time": "2023-03-16T21:28:40.738570",
     "status": "completed"
    },
    "tags": []
   },
   "source": [
    "#### After perform an evaluation to this Convolutional Neural Network a 79% was achieved. The model could improve if Epochs increase or even restate the Learning Rate"
   ]
  }
 ],
 "metadata": {
  "kernelspec": {
   "display_name": "Python 3",
   "language": "python",
   "name": "python3"
  },
  "language_info": {
   "codemirror_mode": {
    "name": "ipython",
    "version": 3
   },
   "file_extension": ".py",
   "mimetype": "text/x-python",
   "name": "python",
   "nbconvert_exporter": "python",
   "pygments_lexer": "ipython3",
   "version": "3.7.12"
  },
  "papermill": {
   "default_parameters": {},
   "duration": 3789.899507,
   "end_time": "2023-03-16T21:28:44.136172",
   "environment_variables": {},
   "exception": null,
   "input_path": "__notebook__.ipynb",
   "output_path": "__notebook__.ipynb",
   "parameters": {},
   "start_time": "2023-03-16T20:25:34.236665",
   "version": "2.4.0"
  }
 },
 "nbformat": 4,
 "nbformat_minor": 5
}
