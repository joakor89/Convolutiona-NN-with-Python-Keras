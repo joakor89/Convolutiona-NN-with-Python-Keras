{
 "cells": [
  {
   "cell_type": "markdown",
   "id": "ede7a738",
   "metadata": {
    "papermill": {
     "duration": 0.00636,
     "end_time": "2023-03-14T17:11:43.628047",
     "exception": false,
     "start_time": "2023-03-14T17:11:43.621687",
     "status": "completed"
    },
    "tags": []
   },
   "source": [
    "# Convolutional Neural Network in Kaggle"
   ]
  },
  {
   "cell_type": "markdown",
   "id": "f62a663c",
   "metadata": {
    "papermill": {
     "duration": 0.004651,
     "end_time": "2023-03-14T17:11:43.637466",
     "exception": false,
     "start_time": "2023-03-14T17:11:43.632815",
     "status": "completed"
    },
    "tags": []
   },
   "source": [
    "### Import Libraries"
   ]
  },
  {
   "cell_type": "code",
   "execution_count": 1,
   "id": "faca9641",
   "metadata": {
    "_cell_guid": "b1076dfc-b9ad-4769-8c92-a6c4dae69d19",
    "_uuid": "8f2839f25d086af736a60e9eeb907d3b93b6e0e5",
    "execution": {
     "iopub.execute_input": "2023-03-14T17:11:43.648378Z",
     "iopub.status.busy": "2023-03-14T17:11:43.647905Z",
     "iopub.status.idle": "2023-03-14T17:11:50.742388Z",
     "shell.execute_reply": "2023-03-14T17:11:50.741256Z"
    },
    "papermill": {
     "duration": 7.103026,
     "end_time": "2023-03-14T17:11:50.745063",
     "exception": false,
     "start_time": "2023-03-14T17:11:43.642037",
     "status": "completed"
    },
    "tags": []
   },
   "outputs": [],
   "source": [
    "import numpy as np # linear algebra\n",
    "import pandas as pd # data processing, CSV file I/O (e.g. pd.read_csv)\n",
    "import tensorflow as tf"
   ]
  },
  {
   "cell_type": "markdown",
   "id": "748724eb",
   "metadata": {
    "papermill": {
     "duration": 0.00448,
     "end_time": "2023-03-14T17:11:50.754859",
     "exception": false,
     "start_time": "2023-03-14T17:11:50.750379",
     "status": "completed"
    },
    "tags": []
   },
   "source": [
    "### Keras API"
   ]
  },
  {
   "cell_type": "code",
   "execution_count": 2,
   "id": "7a8531e7",
   "metadata": {
    "execution": {
     "iopub.execute_input": "2023-03-14T17:11:50.766598Z",
     "iopub.status.busy": "2023-03-14T17:11:50.765313Z",
     "iopub.status.idle": "2023-03-14T17:11:51.459308Z",
     "shell.execute_reply": "2023-03-14T17:11:51.458289Z"
    },
    "papermill": {
     "duration": 0.702205,
     "end_time": "2023-03-14T17:11:51.461875",
     "exception": false,
     "start_time": "2023-03-14T17:11:50.759670",
     "status": "completed"
    },
    "tags": []
   },
   "outputs": [],
   "source": [
    "# Import dataset\n",
    "from tensorflow.keras.datasets import fashion_mnist\n",
    "# Import Model's Layers \n",
    "from tensorflow.keras.layers import Conv2D, Dropout, MaxPooling2D, Flatten, Dense\n",
    "# Visualization Library\n",
    "import matplotlib.pyplot as plt\n",
    "# Palette & Visualization Library\n",
    "import seaborn as sns"
   ]
  },
  {
   "cell_type": "markdown",
   "id": "84193ab4",
   "metadata": {
    "papermill": {
     "duration": 0.004611,
     "end_time": "2023-03-14T17:11:51.471477",
     "exception": false,
     "start_time": "2023-03-14T17:11:51.466866",
     "status": "completed"
    },
    "tags": []
   },
   "source": [
    "### Loading Dataset"
   ]
  },
  {
   "cell_type": "code",
   "execution_count": 3,
   "id": "19e216d6",
   "metadata": {
    "execution": {
     "iopub.execute_input": "2023-03-14T17:11:51.483783Z",
     "iopub.status.busy": "2023-03-14T17:11:51.482053Z",
     "iopub.status.idle": "2023-03-14T17:11:52.571936Z",
     "shell.execute_reply": "2023-03-14T17:11:52.570871Z"
    },
    "papermill": {
     "duration": 1.098499,
     "end_time": "2023-03-14T17:11:52.574615",
     "exception": false,
     "start_time": "2023-03-14T17:11:51.476116",
     "status": "completed"
    },
    "tags": []
   },
   "outputs": [
    {
     "name": "stdout",
     "output_type": "stream",
     "text": [
      "Downloading data from https://storage.googleapis.com/tensorflow/tf-keras-datasets/train-labels-idx1-ubyte.gz\n",
      "29515/29515 [==============================] - 0s 0us/step\n",
      "Downloading data from https://storage.googleapis.com/tensorflow/tf-keras-datasets/train-images-idx3-ubyte.gz\n",
      "26421880/26421880 [==============================] - 0s 0us/step\n",
      "Downloading data from https://storage.googleapis.com/tensorflow/tf-keras-datasets/t10k-labels-idx1-ubyte.gz\n",
      "5148/5148 [==============================] - 0s 0us/step\n",
      "Downloading data from https://storage.googleapis.com/tensorflow/tf-keras-datasets/t10k-images-idx3-ubyte.gz\n",
      "4422102/4422102 [==============================] - 0s 0us/step\n"
     ]
    }
   ],
   "source": [
    "(train_images, train_labels), (test_images, test_labels) = fashion_mnist.load_data()"
   ]
  },
  {
   "cell_type": "markdown",
   "id": "ff8fefb0",
   "metadata": {
    "papermill": {
     "duration": 0.005836,
     "end_time": "2023-03-14T17:11:52.586740",
     "exception": false,
     "start_time": "2023-03-14T17:11:52.580904",
     "status": "completed"
    },
    "tags": []
   },
   "source": [
    "## Let's move forward into E.D.A "
   ]
  },
  {
   "cell_type": "code",
   "execution_count": 4,
   "id": "4831d450",
   "metadata": {
    "execution": {
     "iopub.execute_input": "2023-03-14T17:11:52.599919Z",
     "iopub.status.busy": "2023-03-14T17:11:52.599578Z",
     "iopub.status.idle": "2023-03-14T17:11:52.606834Z",
     "shell.execute_reply": "2023-03-14T17:11:52.605774Z"
    },
    "papermill": {
     "duration": 0.016654,
     "end_time": "2023-03-14T17:11:52.609231",
     "exception": false,
     "start_time": "2023-03-14T17:11:52.592577",
     "status": "completed"
    },
    "tags": []
   },
   "outputs": [
    {
     "data": {
      "text/plain": [
       "(60000, 28, 28)"
      ]
     },
     "execution_count": 4,
     "metadata": {},
     "output_type": "execute_result"
    }
   ],
   "source": [
    "train_images.shape"
   ]
  },
  {
   "cell_type": "markdown",
   "id": "f9028d8c",
   "metadata": {
    "papermill": {
     "duration": 0.005537,
     "end_time": "2023-03-14T17:11:52.620574",
     "exception": false,
     "start_time": "2023-03-14T17:11:52.615037",
     "status": "completed"
    },
    "tags": []
   },
   "source": [
    "So far, the dataset contains 60000 images with 28x28 pixel dimensions within each image. Let's invoke now a inner exploration in any image"
   ]
  },
  {
   "cell_type": "code",
   "execution_count": 5,
   "id": "1d044c7b",
   "metadata": {
    "execution": {
     "iopub.execute_input": "2023-03-14T17:11:52.633492Z",
     "iopub.status.busy": "2023-03-14T17:11:52.632633Z",
     "iopub.status.idle": "2023-03-14T17:11:52.845984Z",
     "shell.execute_reply": "2023-03-14T17:11:52.845005Z"
    },
    "papermill": {
     "duration": 0.222274,
     "end_time": "2023-03-14T17:11:52.848298",
     "exception": false,
     "start_time": "2023-03-14T17:11:52.626024",
     "status": "completed"
    },
    "tags": []
   },
   "outputs": [
    {
     "data": {
      "image/png": "[encoded data removed]",
      "text/plain": [
       "<Figure size 640x480 with 1 Axes>"
      ]
     },
     "metadata": {},
     "output_type": "display_data"
    }
   ],
   "source": [
    "# Looking over the first register\n",
    "plt.imshow(train_images[33])\n",
    "plt.show()"
   ]
  },
  {
   "cell_type": "markdown",
   "id": "41c89c73",
   "metadata": {
    "papermill": {
     "duration": 0.005674,
     "end_time": "2023-03-14T17:11:52.859940",
     "exception": false,
     "start_time": "2023-03-14T17:11:52.854266",
     "status": "completed"
    },
    "tags": []
   },
   "source": [
    "### Data Cleaaning Process"
   ]
  },
  {
   "cell_type": "markdown",
   "id": "220b6115",
   "metadata": {
    "papermill": {
     "duration": 0.005618,
     "end_time": "2023-03-14T17:11:52.871261",
     "exception": false,
     "start_time": "2023-03-14T17:11:52.865643",
     "status": "completed"
    },
    "tags": []
   },
   "source": [
    "Let's perform a laundry services over the dataset & look for any inconsistency, null values and son on:\n",
    "* Pixel scale start from 1 to 255 RGB-scaled.\n",
    "* The goal is to standarize the all values and left them from 0 to 1 on decimal way in order to make smoothier processing for the Neural-Network."
   ]
  },
  {
   "cell_type": "code",
   "execution_count": 6,
   "id": "1f925b2d",
   "metadata": {
    "execution": {
     "iopub.execute_input": "2023-03-14T17:11:52.884467Z",
     "iopub.status.busy": "2023-03-14T17:11:52.883652Z",
     "iopub.status.idle": "2023-03-14T17:11:52.967763Z",
     "shell.execute_reply": "2023-03-14T17:11:52.966397Z"
    },
    "papermill": {
     "duration": 0.09397,
     "end_time": "2023-03-14T17:11:52.970972",
     "exception": false,
     "start_time": "2023-03-14T17:11:52.877002",
     "status": "completed"
    },
    "tags": []
   },
   "outputs": [],
   "source": [
    "# Let's rescale the values\n",
    "# For Train images\n",
    "train_images = train_images.astype('float32') / 255\n",
    "# For Test Images\n",
    "test_images = test_images.astype('float32') / 255"
   ]
  },
  {
   "cell_type": "markdown",
   "id": "6f5cc8d6",
   "metadata": {
    "papermill": {
     "duration": 0.005762,
     "end_time": "2023-03-14T17:11:52.983677",
     "exception": false,
     "start_time": "2023-03-14T17:11:52.977915",
     "status": "completed"
    },
    "tags": []
   },
   "source": [
    "* Now! towards Train Images lets perfom a reshape over one channel \"gray-scale\""
   ]
  },
  {
   "cell_type": "code",
   "execution_count": 7,
   "id": "38e65692",
   "metadata": {
    "execution": {
     "iopub.execute_input": "2023-03-14T17:11:52.998605Z",
     "iopub.status.busy": "2023-03-14T17:11:52.996598Z",
     "iopub.status.idle": "2023-03-14T17:11:53.002849Z",
     "shell.execute_reply": "2023-03-14T17:11:53.001799Z"
    },
    "papermill": {
     "duration": 0.015276,
     "end_time": "2023-03-14T17:11:53.004966",
     "exception": false,
     "start_time": "2023-03-14T17:11:52.989690",
     "status": "completed"
    },
    "tags": []
   },
   "outputs": [],
   "source": [
    "# Reshaping on Train Images\n",
    "train_images = train_images.reshape(train_images.shape[0], 28, 28, 1)\n",
    "# Reshaping on Test Images\n",
    "test_images = test_images.reshape(test_images.shape[0], 28, 28, 1)"
   ]
  },
  {
   "cell_type": "markdown",
   "id": "9d47d091",
   "metadata": {
    "papermill": {
     "duration": 0.005685,
     "end_time": "2023-03-14T17:11:53.016661",
     "exception": false,
     "start_time": "2023-03-14T17:11:53.010976",
     "status": "completed"
    },
    "tags": []
   },
   "source": [
    "* Now! let's perform data cleaning towards the labels\n",
    "* Invoke to_Categorical in order to standarize the data accoding to \"data's dimension\" and set it up from 0 to 1 along with the values quantity that it got so:"
   ]
  },
  {
   "cell_type": "code",
   "execution_count": 8,
   "id": "50decd56",
   "metadata": {
    "execution": {
     "iopub.execute_input": "2023-03-14T17:11:53.029910Z",
     "iopub.status.busy": "2023-03-14T17:11:53.029098Z",
     "iopub.status.idle": "2023-03-14T17:11:53.035502Z",
     "shell.execute_reply": "2023-03-14T17:11:53.034623Z"
    },
    "papermill": {
     "duration": 0.015425,
     "end_time": "2023-03-14T17:11:53.037903",
     "exception": false,
     "start_time": "2023-03-14T17:11:53.022478",
     "status": "completed"
    },
    "tags": []
   },
   "outputs": [],
   "source": [
    "# On Train Labels\n",
    "train_labels = tf.keras.utils.to_categorical(train_labels, 10)\n",
    "# On Test Labels\n",
    "test_labels = tf.keras.utils.to_categorical(test_labels, 10)"
   ]
  },
  {
   "cell_type": "markdown",
   "id": "63f0fe82",
   "metadata": {
    "papermill": {
     "duration": 0.005668,
     "end_time": "2023-03-14T17:11:53.049203",
     "exception": false,
     "start_time": "2023-03-14T17:11:53.043535",
     "status": "completed"
    },
    "tags": []
   },
   "source": [
    "### Data Model"
   ]
  },
  {
   "cell_type": "code",
   "execution_count": 9,
   "id": "3cc3f2ae",
   "metadata": {
    "execution": {
     "iopub.execute_input": "2023-03-14T17:11:53.062392Z",
     "iopub.status.busy": "2023-03-14T17:11:53.061598Z",
     "iopub.status.idle": "2023-03-14T17:11:56.045538Z",
     "shell.execute_reply": "2023-03-14T17:11:56.044746Z"
    },
    "papermill": {
     "duration": 3.012234,
     "end_time": "2023-03-14T17:11:56.067096",
     "exception": false,
     "start_time": "2023-03-14T17:11:53.054862",
     "status": "completed"
    },
    "tags": []
   },
   "outputs": [
    {
     "name": "stdout",
     "output_type": "stream",
     "text": [
      "Model: \"sequential\"\n",
      "_________________________________________________________________\n",
      " Layer (type)                Output Shape              Param #   \n",
      "=================================================================\n",
      " conv2d (Conv2D)             (None, 28, 28, 64)        320       \n",
      "                                                                 \n",
      " max_pooling2d (MaxPooling2D  (None, 14, 14, 64)       0         \n",
      " )                                                               \n",
      "                                                                 \n",
      " dropout (Dropout)           (None, 14, 14, 64)        0         \n",
      "                                                                 \n",
      " conv2d_1 (Conv2D)           (None, 14, 14, 32)        8224      \n",
      "                                                                 \n",
      " dropout_1 (Dropout)         (None, 14, 14, 32)        0         \n",
      "                                                                 \n",
      " flatten (Flatten)           (None, 6272)              0         \n",
      "                                                                 \n",
      " dense (Dense)               (None, 256)               1605888   \n",
      "                                                                 \n",
      " dropout_2 (Dropout)         (None, 256)               0         \n",
      "                                                                 \n",
      " dense_1 (Dense)             (None, 10)                2570      \n",
      "                                                                 \n",
      "=================================================================\n",
      "Total params: 1,617,002\n",
      "Trainable params: 1,617,002\n",
      "Non-trainable params: 0\n",
      "_________________________________________________________________\n"
     ]
    }
   ],
   "source": [
    "#\n",
    "model = tf.keras.Sequential()\n",
    "# Adding Convolution Layer\n",
    "model.add(Conv2D(filters = 64, kernel_size = 2, padding = 'same', activation = 'relu', input_shape = (28, 28, 1)))\n",
    "# Let's stack the remaining Model Layers (MaxPooling) for Deepness\n",
    "model.add(MaxPooling2D(pool_size=2))\n",
    "# Let's add a layer to reduce the overfitting\n",
    "model.add(Dropout(0.3))\n",
    "# The model will recieved the input shape from its predecesor layer.\n",
    "model.add(Conv2D(filters = 32, kernel_size = 2, padding = 'same', activation = 'relu'))\n",
    "# Let's add a layer to keep avoiding the overfitting\n",
    "model.add(Dropout(0.3))\n",
    "# Let's add a new layer flatten the Matrix or Tensor \n",
    "model.add(Flatten())\n",
    "# Let's stack-up Dense Layers\n",
    "model.add(Dense(256, activation = 'relu'))\n",
    "# Let's add a layer to keep avoiding the overfitting at 50 %\n",
    "model.add(Dropout(0.5))\n",
    "# Let's classify on 10 possible outcomes\n",
    "model.add(Dense(10, activation = 'softmax'))\n",
    "# Let's get a Summary\n",
    "model.summary()"
   ]
  },
  {
   "cell_type": "markdown",
   "id": "7da52b5b",
   "metadata": {
    "papermill": {
     "duration": 0.007853,
     "end_time": "2023-03-14T17:11:56.083144",
     "exception": false,
     "start_time": "2023-03-14T17:11:56.075291",
     "status": "completed"
    },
    "tags": []
   },
   "source": [
    "### Training Model"
   ]
  },
  {
   "cell_type": "code",
   "execution_count": 10,
   "id": "9fe59588",
   "metadata": {
    "execution": {
     "iopub.execute_input": "2023-03-14T17:11:56.099510Z",
     "iopub.status.busy": "2023-03-14T17:11:56.099184Z",
     "iopub.status.idle": "2023-03-14T17:11:56.115097Z",
     "shell.execute_reply": "2023-03-14T17:11:56.114144Z"
    },
    "papermill": {
     "duration": 0.026709,
     "end_time": "2023-03-14T17:11:56.117192",
     "exception": false,
     "start_time": "2023-03-14T17:11:56.090483",
     "status": "completed"
    },
    "tags": []
   },
   "outputs": [],
   "source": [
    "# Let's compile receiving the loss function. Useful for backprogragation\n",
    "model.compile(loss='categorical_crossentropy',\n",
    "              # Optimizer\n",
    "              optimizer = 'rmsprop',\n",
    "              # To optimize & calculate the backpropagation weights\n",
    "              metrics = ['accuracy']\n",
    "             )"
   ]
  },
  {
   "cell_type": "markdown",
   "id": "02c80a0d",
   "metadata": {
    "papermill": {
     "duration": 0.006995,
     "end_time": "2023-03-14T17:11:56.131633",
     "exception": false,
     "start_time": "2023-03-14T17:11:56.124638",
     "status": "completed"
    },
    "tags": []
   },
   "source": [
    "* Let's perform the training procedure:"
   ]
  },
  {
   "cell_type": "code",
   "execution_count": 11,
   "id": "1878eea3",
   "metadata": {
    "execution": {
     "iopub.execute_input": "2023-03-14T17:11:56.147837Z",
     "iopub.status.busy": "2023-03-14T17:11:56.146896Z",
     "iopub.status.idle": "2023-03-14T17:14:19.299454Z",
     "shell.execute_reply": "2023-03-14T17:14:19.298434Z"
    },
    "papermill": {
     "duration": 143.254637,
     "end_time": "2023-03-14T17:14:19.393725",
     "exception": false,
     "start_time": "2023-03-14T17:11:56.139088",
     "status": "completed"
    },
    "tags": []
   },
   "outputs": [
    {
     "name": "stdout",
     "output_type": "stream",
     "text": [
      "Epoch 1/20\n"
     ]
    },
    {
     "name": "stderr",
     "output_type": "stream",
     "text": [
      "2023-03-14 17:11:57.308797: E tensorflow/core/grappler/optimizers/meta_optimizer.cc:954] layout failed: INVALID_ARGUMENT: Size of values 0 does not match size of permutation 4 @ fanin shape insequential/dropout/dropout/SelectV2-2-TransposeNHWCToNCHW-LayoutOptimizer\n"
     ]
    },
    {
     "name": "stdout",
     "output_type": "stream",
     "text": [
      "938/938 [==============================] - 12s 5ms/step - loss: 0.5190 - accuracy: 0.8149\n",
      "Epoch 2/20\n",
      "938/938 [==============================] - 4s 5ms/step - loss: 0.3419 - accuracy: 0.8775\n",
      "Epoch 3/20\n",
      "938/938 [==============================] - 5s 5ms/step - loss: 0.3028 - accuracy: 0.8915\n",
      "Epoch 4/20\n",
      "938/938 [==============================] - 4s 5ms/step - loss: 0.2797 - accuracy: 0.9003\n",
      "Epoch 5/20\n",
      "938/938 [==============================] - 4s 4ms/step - loss: 0.2716 - accuracy: 0.9042\n",
      "Epoch 6/20\n",
      "938/938 [==============================] - 4s 5ms/step - loss: 0.2605 - accuracy: 0.9075\n",
      "Epoch 7/20\n",
      "938/938 [==============================] - 4s 5ms/step - loss: 0.2574 - accuracy: 0.9099\n",
      "Epoch 8/20\n",
      "938/938 [==============================] - 4s 5ms/step - loss: 0.2563 - accuracy: 0.9108\n",
      "Epoch 9/20\n",
      "938/938 [==============================] - 4s 4ms/step - loss: 0.2502 - accuracy: 0.9131\n",
      "Epoch 10/20\n",
      "938/938 [==============================] - 5s 5ms/step - loss: 0.2505 - accuracy: 0.9120\n",
      "Epoch 11/20\n",
      "938/938 [==============================] - 4s 5ms/step - loss: 0.2436 - accuracy: 0.9154\n",
      "Epoch 12/20\n",
      "938/938 [==============================] - 4s 5ms/step - loss: 0.2418 - accuracy: 0.9168\n",
      "Epoch 13/20\n",
      "938/938 [==============================] - 4s 5ms/step - loss: 0.2414 - accuracy: 0.9166\n",
      "Epoch 14/20\n",
      "938/938 [==============================] - 4s 5ms/step - loss: 0.2390 - accuracy: 0.9177\n",
      "Epoch 15/20\n",
      "938/938 [==============================] - 4s 4ms/step - loss: 0.2402 - accuracy: 0.9156\n",
      "Epoch 16/20\n",
      "938/938 [==============================] - 4s 5ms/step - loss: 0.2353 - accuracy: 0.9186\n",
      "Epoch 17/20\n",
      "938/938 [==============================] - 4s 5ms/step - loss: 0.2329 - accuracy: 0.9197\n",
      "Epoch 18/20\n",
      "938/938 [==============================] - 4s 5ms/step - loss: 0.2341 - accuracy: 0.9177\n",
      "Epoch 19/20\n",
      "938/938 [==============================] - 4s 5ms/step - loss: 0.2306 - accuracy: 0.9197\n",
      "Epoch 20/20\n",
      "938/938 [==============================] - 4s 4ms/step - loss: 0.2307 - accuracy: 0.9208\n"
     ]
    },
    {
     "data": {
      "text/plain": [
       "<keras.callbacks.History at 0x7f9ce4e1da10>"
      ]
     },
     "execution_count": 11,
     "metadata": {},
     "output_type": "execute_result"
    }
   ],
   "source": [
    "# Training Model Process\n",
    "model.fit(train_images, train_labels, batch_size=64, epochs=20)"
   ]
  },
  {
   "cell_type": "code",
   "execution_count": 12,
   "id": "74e285d3",
   "metadata": {
    "execution": {
     "iopub.execute_input": "2023-03-14T17:14:19.586282Z",
     "iopub.status.busy": "2023-03-14T17:14:19.585926Z",
     "iopub.status.idle": "2023-03-14T17:14:20.581155Z",
     "shell.execute_reply": "2023-03-14T17:14:20.580074Z"
    },
    "papermill": {
     "duration": 1.095246,
     "end_time": "2023-03-14T17:14:20.583574",
     "exception": false,
     "start_time": "2023-03-14T17:14:19.488328",
     "status": "completed"
    },
    "tags": []
   },
   "outputs": [
    {
     "data": {
      "text/plain": [
       "[0.24433253705501556, 0.9143999814987183]"
      ]
     },
     "execution_count": 12,
     "metadata": {},
     "output_type": "execute_result"
    }
   ],
   "source": [
    "# Model Evaluation\n",
    "model.evaluate(test_images, test_labels, verbose = 0)"
   ]
  },
  {
   "cell_type": "markdown",
   "id": "3180f2dd",
   "metadata": {
    "papermill": {
     "duration": 0.094713,
     "end_time": "2023-03-14T17:14:20.774363",
     "exception": false,
     "start_time": "2023-03-14T17:14:20.679650",
     "status": "completed"
    },
    "tags": []
   },
   "source": [
    "##### Outcomes:\n",
    "1. 90 % accuracy on Training Test\n",
    "\n",
    "The training set has never been observed by the Neural Network, either way, the model knowns how to classify amog 10 image categories with a 90 % accuracy and went just through 20 epochs. "
   ]
  },
  {
   "cell_type": "code",
   "execution_count": null,
   "id": "8b430726",
   "metadata": {
    "papermill": {
     "duration": 0.104813,
     "end_time": "2023-03-14T17:14:20.973212",
     "exception": false,
     "start_time": "2023-03-14T17:14:20.868399",
     "status": "completed"
    },
    "tags": []
   },
   "outputs": [],
   "source": []
  }
 ],
 "metadata": {
  "kernelspec": {
   "display_name": "Python 3",
   "language": "python",
   "name": "python3"
  },
  "language_info": {
   "codemirror_mode": {
    "name": "ipython",
    "version": 3
   },
   "file_extension": ".py",
   "mimetype": "text/x-python",
   "name": "python",
   "nbconvert_exporter": "python",
   "pygments_lexer": "ipython3",
   "version": "3.7.12"
  },
  "papermill": {
   "default_parameters": {},
   "duration": 170.856371,
   "end_time": "2023-03-14T17:14:24.892600",
   "environment_variables": {},
   "exception": null,
   "input_path": "__notebook__.ipynb",
   "output_path": "__notebook__.ipynb",
   "parameters": {},
   "start_time": "2023-03-14T17:11:34.036229",
   "version": "2.4.0"
  }
 },
 "nbformat": 4,
 "nbformat_minor": 5
}
